{
 "cells": [
  {
   "cell_type": "markdown",
   "metadata": {},
   "source": [
    "# Word Embeddings"
   ]
  },
  {
   "cell_type": "markdown",
   "metadata": {},
   "source": [
    "## Load Pre-trained Word Embeddings"
   ]
  },
  {
   "cell_type": "markdown",
   "metadata": {},
   "source": [
    "Load the pre-trained FastText word embedding provided by Facebook. \n",
    "https://github.com/facebookresearch/fastText/blob/master/pretrained-vectors.md\n",
    "\n",
    "This version only contains top 5000 words. "
   ]
  },
  {
   "cell_type": "code",
   "execution_count": 242,
   "metadata": {
    "collapsed": false
   },
   "outputs": [
    {
     "name": "stdout",
     "output_type": "stream",
     "text": [
      "Number of words: 5000\n"
     ]
    }
   ],
   "source": [
    "from gensim.models import KeyedVectors\n",
    "w2v = KeyedVectors.load_word2vec_format(\"wiki.en.5k.vec\", binary=False)\n",
    "print(\"Number of words: %d\" % len(w2v.vocab))"
   ]
  },
  {
   "cell_type": "markdown",
   "metadata": {},
   "source": [
    "## Word Similarity"
   ]
  },
  {
   "cell_type": "code",
   "execution_count": 243,
   "metadata": {
    "collapsed": false
   },
   "outputs": [
    {
     "name": "stdout",
     "output_type": "stream",
     "text": [
      "[ -3.75180006e-01   2.89999992e-01  -2.39140000e-02   2.14550003e-01\n",
      "  -5.85930012e-02   4.81930003e-02   3.15059990e-01  -3.92590016e-02\n",
      "  -2.75250003e-02   5.35399973e-01  -2.82299995e-01   5.67139983e-01\n",
      "   9.38130021e-02   9.26640034e-02   4.87609990e-02  -9.43740010e-02\n",
      "   8.49250033e-02  -1.93719998e-01   6.53479993e-01   1.52139999e-02\n",
      "  -3.36479992e-01  -8.83029997e-02  -3.80340010e-01  -3.24400008e-01\n",
      "  -9.37319994e-02  -1.56100005e-01  -4.62480009e-01   1.55839995e-01\n",
      "   3.23260009e-01   5.30389994e-02   3.70530002e-02   2.73169994e-01\n",
      "  -7.34610021e-01  -9.22489986e-02  -1.53689995e-01   1.90830007e-01\n",
      "   8.64970013e-02  -4.51269979e-03  -2.00479999e-01  -1.99829996e-01\n",
      "   6.42519966e-02   2.34099999e-01   2.86699999e-02   1.48059994e-01\n",
      "   7.92160034e-02   1.43610001e-01  -2.47500002e-01   8.30840021e-02\n",
      "  -2.80279994e-01   6.86990023e-02  -2.13770002e-01  -4.21229988e-01\n",
      "   3.99399996e-01   5.92209995e-02   1.22180000e-01   2.96330005e-01\n",
      "   1.36829996e-02   1.30730003e-01   5.13169989e-02  -1.87419996e-01\n",
      "   1.76219996e-02  -4.71960008e-01   2.88969994e-01   1.18790001e-01\n",
      "  -1.46689996e-01   1.42710000e-01   2.81889997e-02   3.01629990e-01\n",
      "   9.75639969e-02  -1.40910000e-01  -2.68669993e-01   1.50169998e-01\n",
      "   2.40549996e-01  -2.63900012e-01  -4.86860007e-01   4.12410013e-02\n",
      "   5.62519990e-02  -6.42649978e-02   1.75060004e-01  -1.67059992e-02\n",
      "   3.50919992e-01   1.81700006e-01  -1.13159999e-01  -2.18860000e-01\n",
      "  -7.72669986e-02  -1.13619998e-01  -8.98969993e-02   1.35920003e-01\n",
      "   2.62970001e-01   1.16499998e-01   1.43250003e-01   8.52330029e-02\n",
      "   5.18289983e-01  -1.33489996e-01   2.25520000e-01   2.10110005e-02\n",
      "  -1.11720003e-02  -2.51989990e-01   1.76609993e-01   1.50649995e-01\n",
      "   2.52510011e-01  -7.19470009e-02   3.25930007e-02   1.65680006e-01\n",
      "   2.54340004e-02   4.12730016e-02  -1.20430000e-01   1.91510007e-01\n",
      "   1.09159999e-01   8.27910006e-03   8.06450024e-02  -8.68299976e-02\n",
      "  -2.96429992e-01   6.85120001e-02   7.84540025e-04  -2.48710006e-01\n",
      "  -1.84410006e-01  -2.20599994e-01  -1.98330000e-01   5.96739985e-02\n",
      "   9.34569985e-02  -5.53280022e-03  -9.54030007e-02   2.25480005e-01\n",
      "  -2.90280014e-01   8.79340023e-02  -1.67109996e-01  -1.35000005e-01\n",
      "  -1.26259997e-01   3.63599986e-01   5.89869991e-02   4.69020009e-01\n",
      "  -1.64269999e-01  -7.21170008e-02   6.75420016e-02   4.41390015e-02\n",
      "  -1.33770004e-01   3.80019993e-01  -2.39860006e-02   6.54410005e-01\n",
      "   3.28920007e-01  -2.36790001e-01   5.20410001e-01   7.68159982e-03\n",
      "  -8.08340013e-02   3.93279999e-01  -1.50199994e-01  -6.06760010e-02\n",
      "   1.40129998e-01  -3.26649994e-02   1.02190003e-01  -1.35800004e-01\n",
      "  -4.92339998e-01  -9.02170017e-02  -3.94290000e-01  -4.20580000e-01\n",
      "   2.49029994e-01  -5.03689982e-02  -2.04559997e-01  -1.52880000e-02\n",
      "  -9.14939959e-03   7.03329965e-02  -3.72759998e-01   7.30850026e-02\n",
      "  -5.69939986e-03   1.74250007e-02  -1.29199997e-02  -2.50979990e-01\n",
      "   1.35940000e-01   2.02950001e-01  -1.29519999e-01  -1.74830005e-01\n",
      "   1.72979996e-01  -5.69010019e-01   3.27670008e-01   2.69309998e-01\n",
      "  -2.49210000e-02   2.29599997e-01   2.45590005e-02  -1.82789996e-01\n",
      "   1.93820000e-01  -9.90369990e-02  -1.29240006e-01  -7.91430008e-03\n",
      "  -2.98519991e-02   1.65179998e-01  -1.49210006e-01  -5.24209999e-03\n",
      "   2.68339992e-01  -3.32910001e-01  -3.45950007e-01  -8.15100037e-03\n",
      "   6.08219998e-04   1.41949998e-02  -5.47270000e-01  -2.21460000e-01\n",
      "   1.26470000e-01   2.91750014e-01  -3.66580009e-01   1.55110002e-01\n",
      "  -5.29199988e-02   4.75849986e-01  -1.24880001e-01  -9.73569974e-02\n",
      "   5.82050011e-02  -7.86650032e-02  -3.97050008e-02   4.93780002e-02\n",
      "   4.80049998e-01  -8.37749988e-02   3.73310000e-01  -2.26459995e-01\n",
      "   2.08370000e-01  -2.72480011e-01  -2.40620002e-01  -5.81299998e-02\n",
      "  -1.30639998e-02  -3.33570004e-01  -6.26730025e-02  -1.85910001e-01\n",
      "  -9.65320040e-03   4.22179997e-01  -2.03840006e-02   9.91360005e-03\n",
      "  -1.11579999e-01   7.52959996e-02  -1.78700000e-01  -1.78509995e-01\n",
      "  -6.43000007e-02   1.83690004e-02  -1.58199996e-01  -2.89400011e-01\n",
      "   1.27240002e-01  -4.20469999e-01  -4.53960001e-02   9.17019993e-02\n",
      "   1.07900001e-01   2.03590006e-01  -3.46839994e-01  -2.33939998e-02\n",
      "   3.61440003e-01   1.82990000e-01   1.66800007e-01   8.41260031e-02\n",
      "  -3.90689999e-01   3.26920003e-01  -1.48709998e-01  -1.20710000e-01\n",
      "  -5.41779995e-02  -9.73440036e-02  -5.74299991e-02   3.51280011e-02\n",
      "  -8.66760015e-02  -1.32390007e-01  -3.15129995e-01   1.95649996e-01\n",
      "  -1.95570007e-01  -2.64990002e-01  -1.15979999e-01   2.07519993e-01\n",
      "   7.75030032e-02  -7.44650001e-03  -4.26860005e-01  -3.34470004e-01\n",
      "  -3.77550006e-01  -2.19600007e-01  -1.58769995e-01  -9.74860042e-03\n",
      "   9.80180036e-03  -9.72039998e-02  -5.11979997e-01   4.45500016e-02\n",
      "  -1.95339993e-01   1.70849994e-01  -3.08299996e-02  -3.23919989e-02\n",
      "  -2.24189997e-01   3.61880004e-01  -9.07109976e-02  -3.14200014e-01\n",
      "   2.46380001e-01  -2.22769994e-02   1.98270008e-03  -1.66280001e-01\n",
      "  -1.57769993e-02  -1.61510006e-01   1.23460002e-01   1.10459998e-02\n",
      "  -4.36620004e-02  -1.08429998e-01   1.41849995e-01   1.12000003e-01\n",
      "   1.61290005e-01  -8.91370028e-02   1.16260000e-01  -1.81590002e-02\n",
      "   2.28049994e-01  -1.04960002e-01   4.26779985e-01   1.64600000e-01]\n"
     ]
    }
   ],
   "source": [
    "print(w2v[\"fast\"])"
   ]
  },
  {
   "cell_type": "code",
   "execution_count": 292,
   "metadata": {
    "collapsed": false
   },
   "outputs": [
    {
     "name": "stdout",
     "output_type": "stream",
     "text": [
      "[  9.65229981e-03   2.95940012e-01   8.71919990e-02   1.42510002e-02\n",
      "  -6.27579987e-01   1.44940004e-01  -3.15120007e-04  -4.36540008e-01\n",
      "  -1.48029998e-01  -3.57329994e-01  -2.86659986e-01  -1.91300005e-01\n",
      "   9.89170000e-02  -2.09940001e-01   2.01179996e-01  -2.87310004e-01\n",
      "   1.05609998e-01  -4.04789997e-03   5.50400019e-01   1.74190000e-01\n",
      "  -1.56839997e-01   2.40329996e-01   1.09470002e-01  -1.76909994e-02\n",
      "  -2.87820011e-01   5.19299984e-01   2.86830008e-01   5.97169995e-02\n",
      "  -1.84630007e-01  -3.32100004e-01  -3.28240007e-01   2.16250002e-01\n",
      "  -1.53390005e-01   6.87070012e-01  -4.27789986e-01   1.69540003e-01\n",
      "   1.24080002e-01  -3.63689989e-01   4.04339999e-01   4.65140015e-01\n",
      "  -6.43779993e-01  -2.63119996e-01   1.85450003e-01   1.67879999e-01\n",
      "   1.38699993e-01   6.95929974e-02  -7.04339966e-02  -4.87970002e-02\n",
      "  -1.16800003e-01  -2.67509997e-01   2.08930001e-01  -3.18179995e-01\n",
      "  -1.18089996e-01  -7.21319988e-02  -4.18969989e-01   1.01790003e-01\n",
      "  -7.44150020e-03   3.55340004e-01   7.01690018e-02   2.51349986e-01\n",
      "   1.22939996e-01  -9.15689990e-02  -4.08420004e-02  -2.37550005e-01\n",
      "   5.40769994e-02  -2.46989995e-01  -3.50400001e-01  -2.52169997e-01\n",
      "   1.23140000e-01   3.98689993e-02   2.59819999e-02  -2.66719997e-01\n",
      "   6.14870004e-02   5.26439995e-02  -3.64870012e-01   4.87480015e-01\n",
      "   5.00299990e-01   3.74839991e-01   7.65099972e-02   1.41069993e-01\n",
      "  -1.25489995e-01  -3.03380005e-02   3.49749997e-02  -3.04830015e-01\n",
      "  -7.84050003e-02  -2.65230000e-01  -5.24630010e-01   5.48730016e-01\n",
      "   3.17049995e-02   2.72830009e-01   1.81150004e-01  -2.12559998e-01\n",
      "   2.95839995e-01  -1.85900003e-01   1.09250002e-01   1.87539998e-02\n",
      "  -5.83039999e-01   1.29889995e-01  -1.50340004e-02  -3.68479997e-01\n",
      "   1.40929997e-01   1.87959999e-01   3.34560007e-01  -2.61000007e-01\n",
      "  -4.10589993e-01   7.09170029e-02  -1.16080001e-01   3.08079988e-01\n",
      "   2.41760001e-01   6.46589994e-02   8.09090026e-03  -2.49540001e-01\n",
      "   6.03309989e-01  -1.17349997e-01   1.55849993e-01  -7.43649974e-02\n",
      "  -2.39270002e-01  -2.03520000e-01   2.92250007e-01  -2.06829995e-01\n",
      "   2.57299989e-01  -2.26970002e-01  -1.35820001e-01   1.23649999e-01\n",
      "   5.14999986e-01  -3.86729985e-02  -3.20729986e-02  -1.17629997e-01\n",
      "  -2.46240005e-01  -2.17930004e-01   2.10189998e-01   4.98519987e-02\n",
      "   2.08120003e-01  -4.90740016e-02   2.14220002e-01   2.83910006e-01\n",
      "  -2.35640004e-01  -1.17219999e-01  -5.18900007e-02   5.00159979e-01\n",
      "   1.34379998e-01  -1.21299997e-02  -1.09710000e-01   4.41929996e-01\n",
      "   6.68779984e-02   3.72370005e-01   5.05620003e-01  -3.06330007e-02\n",
      "   2.76930004e-01   3.34410012e-01   4.75400016e-02  -1.14160001e-01\n",
      "  -3.15160006e-01   2.97500007e-02  -2.71620005e-01   1.03090003e-01\n",
      "   1.08780004e-02  -2.87849993e-01   9.35769975e-02   2.45360002e-01\n",
      "   4.56840008e-01   1.64010003e-01  -3.37139994e-01   1.78969994e-01\n",
      "   7.03180015e-01   4.01670001e-02  -5.53589985e-02   2.62819994e-02\n",
      "   4.71329987e-01   3.27620000e-01   8.41149967e-03  -1.19810000e-01\n",
      "  -2.35640004e-01  -7.52509981e-02   2.58709997e-01  -5.94820023e-01\n",
      "  -2.50070002e-02  -2.10020002e-02   3.57050002e-01   4.46000010e-01\n",
      "  -2.65960004e-02   5.45960013e-03   8.31030011e-02  -1.69660002e-01\n",
      "   2.00499997e-01   4.28370014e-02   1.31750003e-01  -2.68590003e-01\n",
      "   2.30409995e-01  -8.22919980e-02  -6.76220000e-01  -4.42030013e-01\n",
      "   2.67809987e-01   4.62199986e-01  -3.06629986e-01  -2.04999998e-01\n",
      "   1.41350001e-01  -1.81730002e-01  -4.26649988e-01   6.35849983e-02\n",
      "   4.49409992e-01  -1.07600003e-01  -7.56919980e-02  -1.25119999e-01\n",
      "   3.71740013e-01  -5.42519987e-01  -1.08879998e-01   9.34249982e-02\n",
      "   6.72049999e-01   3.55170012e-01   3.36389989e-01  -3.09760004e-01\n",
      "   4.57569994e-02  -3.83989990e-01   5.19150011e-02  -3.69729996e-01\n",
      "   2.68510014e-01  -3.00260007e-01  -4.21889991e-01   1.04500003e-01\n",
      "  -1.59410000e-01  -3.95489991e-01   2.06619993e-01  -7.39990026e-02\n",
      "   1.71810001e-01  -3.67900014e-01  -5.52079976e-01  -3.12489986e-01\n",
      "  -1.75080001e-01  -1.66669995e-01  -1.40780002e-01  -2.59169992e-02\n",
      "  -7.58330002e-02   2.56729990e-01   5.87530017e-01  -1.74329996e-01\n",
      "   5.68769984e-02  -5.66559970e-01  -3.03490013e-01   5.00239991e-02\n",
      "   5.65580018e-02   1.48019999e-01  -3.76200005e-02  -2.23529991e-02\n",
      "   1.30569994e-01  -8.47980008e-03   8.50630030e-02   2.73259997e-01\n",
      "  -2.13569999e-01   2.74580002e-01   5.29259980e-01  -2.86150008e-01\n",
      "   6.34630024e-02  -9.79280025e-02   3.51790011e-01   5.74109972e-01\n",
      "  -1.50989994e-01  -3.85969996e-01   5.16939998e-01   2.24509999e-01\n",
      "  -5.37340008e-02  -1.24940000e-01   1.72910005e-01  -6.35529995e-01\n",
      "  -5.01119971e-01  -4.39200014e-01   2.97270000e-01   2.43750006e-01\n",
      "   1.20609999e-01  -2.13220000e-01   1.40900001e-01   6.60099983e-02\n",
      "  -6.65030032e-02  -3.17770004e-01  -1.11340001e-01  -1.40560001e-01\n",
      "  -3.00900012e-01   3.14429998e-01   2.39850000e-01   4.83499989e-02\n",
      "   1.15840003e-01  -3.45139988e-02   5.18909991e-02  -1.18210003e-01\n",
      "   3.34969997e-01   2.50079989e-01  -7.30149969e-02  -1.22319996e-01\n",
      "  -2.52110004e-01   4.02370006e-01  -3.90020013e-01  -1.56389996e-01\n",
      "  -2.09810004e-01  -1.44680003e-02   5.42580010e-03  -1.10840000e-01\n",
      "  -2.09700003e-01  -2.83780009e-01  -2.21449994e-02  -2.50310004e-01]\n"
     ]
    }
   ],
   "source": [
    "print(w2v[\"taiwan\"])"
   ]
  },
  {
   "cell_type": "code",
   "execution_count": 291,
   "metadata": {
    "collapsed": false
   },
   "outputs": [
    {
     "ename": "KeyError",
     "evalue": "\"word 'taipei' not in vocabulary\"",
     "output_type": "error",
     "traceback": [
      "\u001b[0;31m---------------------------------------------------------------------------\u001b[0m",
      "\u001b[0;31mKeyError\u001b[0m                                  Traceback (most recent call last)",
      "\u001b[0;32m<ipython-input-291-f40f7db5c386>\u001b[0m in \u001b[0;36m<module>\u001b[0;34m()\u001b[0m\n\u001b[0;32m----> 1\u001b[0;31m \u001b[0mprint\u001b[0m\u001b[0;34m(\u001b[0m\u001b[0mw2v\u001b[0m\u001b[0;34m[\u001b[0m\u001b[0;34m\"taipei\"\u001b[0m\u001b[0;34m]\u001b[0m\u001b[0;34m)\u001b[0m\u001b[0;34m\u001b[0m\u001b[0m\n\u001b[0m",
      "\u001b[0;32m/usr/local/lib/python3.4/dist-packages/gensim/models/keyedvectors.py\u001b[0m in \u001b[0;36m__getitem__\u001b[0;34m(self, words)\u001b[0m\n\u001b[1;32m    587\u001b[0m         \u001b[0;32mif\u001b[0m \u001b[0misinstance\u001b[0m\u001b[0;34m(\u001b[0m\u001b[0mwords\u001b[0m\u001b[0;34m,\u001b[0m \u001b[0mstring_types\u001b[0m\u001b[0;34m)\u001b[0m\u001b[0;34m:\u001b[0m\u001b[0;34m\u001b[0m\u001b[0m\n\u001b[1;32m    588\u001b[0m             \u001b[0;31m# allow calls like trained_model['office'], as a shorthand for trained_model[['office']]\u001b[0m\u001b[0;34m\u001b[0m\u001b[0;34m\u001b[0m\u001b[0m\n\u001b[0;32m--> 589\u001b[0;31m             \u001b[0;32mreturn\u001b[0m \u001b[0mself\u001b[0m\u001b[0;34m.\u001b[0m\u001b[0mword_vec\u001b[0m\u001b[0;34m(\u001b[0m\u001b[0mwords\u001b[0m\u001b[0;34m)\u001b[0m\u001b[0;34m\u001b[0m\u001b[0m\n\u001b[0m\u001b[1;32m    590\u001b[0m \u001b[0;34m\u001b[0m\u001b[0m\n\u001b[1;32m    591\u001b[0m         \u001b[0;32mreturn\u001b[0m \u001b[0mvstack\u001b[0m\u001b[0;34m(\u001b[0m\u001b[0;34m[\u001b[0m\u001b[0mself\u001b[0m\u001b[0;34m.\u001b[0m\u001b[0mword_vec\u001b[0m\u001b[0;34m(\u001b[0m\u001b[0mword\u001b[0m\u001b[0;34m)\u001b[0m \u001b[0;32mfor\u001b[0m \u001b[0mword\u001b[0m \u001b[0;32min\u001b[0m \u001b[0mwords\u001b[0m\u001b[0;34m]\u001b[0m\u001b[0;34m)\u001b[0m\u001b[0;34m\u001b[0m\u001b[0m\n",
      "\u001b[0;32m/usr/local/lib/python3.4/dist-packages/gensim/models/keyedvectors.py\u001b[0m in \u001b[0;36mword_vec\u001b[0;34m(self, word, use_norm)\u001b[0m\n\u001b[1;32m    286\u001b[0m                 \u001b[0;32mreturn\u001b[0m \u001b[0mself\u001b[0m\u001b[0;34m.\u001b[0m\u001b[0msyn0\u001b[0m\u001b[0;34m[\u001b[0m\u001b[0mself\u001b[0m\u001b[0;34m.\u001b[0m\u001b[0mvocab\u001b[0m\u001b[0;34m[\u001b[0m\u001b[0mword\u001b[0m\u001b[0;34m]\u001b[0m\u001b[0;34m.\u001b[0m\u001b[0mindex\u001b[0m\u001b[0;34m]\u001b[0m\u001b[0;34m\u001b[0m\u001b[0m\n\u001b[1;32m    287\u001b[0m         \u001b[0;32melse\u001b[0m\u001b[0;34m:\u001b[0m\u001b[0;34m\u001b[0m\u001b[0m\n\u001b[0;32m--> 288\u001b[0;31m             \u001b[0;32mraise\u001b[0m \u001b[0mKeyError\u001b[0m\u001b[0;34m(\u001b[0m\u001b[0;34m\"word '%s' not in vocabulary\"\u001b[0m \u001b[0;34m%\u001b[0m \u001b[0mword\u001b[0m\u001b[0;34m)\u001b[0m\u001b[0;34m\u001b[0m\u001b[0m\n\u001b[0m\u001b[1;32m    289\u001b[0m \u001b[0;34m\u001b[0m\u001b[0m\n\u001b[1;32m    290\u001b[0m     \u001b[0;32mdef\u001b[0m \u001b[0mmost_similar\u001b[0m\u001b[0;34m(\u001b[0m\u001b[0mself\u001b[0m\u001b[0;34m,\u001b[0m \u001b[0mpositive\u001b[0m\u001b[0;34m=\u001b[0m\u001b[0;34m[\u001b[0m\u001b[0;34m]\u001b[0m\u001b[0;34m,\u001b[0m \u001b[0mnegative\u001b[0m\u001b[0;34m=\u001b[0m\u001b[0;34m[\u001b[0m\u001b[0;34m]\u001b[0m\u001b[0;34m,\u001b[0m \u001b[0mtopn\u001b[0m\u001b[0;34m=\u001b[0m\u001b[0;36m10\u001b[0m\u001b[0;34m,\u001b[0m \u001b[0mrestrict_vocab\u001b[0m\u001b[0;34m=\u001b[0m\u001b[0;32mNone\u001b[0m\u001b[0;34m,\u001b[0m \u001b[0mindexer\u001b[0m\u001b[0;34m=\u001b[0m\u001b[0;32mNone\u001b[0m\u001b[0;34m)\u001b[0m\u001b[0;34m:\u001b[0m\u001b[0;34m\u001b[0m\u001b[0m\n",
      "\u001b[0;31mKeyError\u001b[0m: \"word 'taipei' not in vocabulary\""
     ]
    }
   ],
   "source": [
    "print(w2v[\"taipei\"])"
   ]
  },
  {
   "cell_type": "code",
   "execution_count": 244,
   "metadata": {
    "collapsed": false
   },
   "outputs": [
    {
     "name": "stdout",
     "output_type": "stream",
     "text": [
      "0.609103698187\n",
      "0.450457907095\n",
      "0.274870275528\n",
      "0.670417302674\n",
      "0.338162538142\n",
      "0.36005890568\n",
      "0.465800531454\n",
      "0.523250761042\n",
      "0.305074052537\n",
      "0.615376118122\n",
      "0.368863405646\n",
      "0.642449761026\n",
      "0.533352219131\n",
      "0.0912901873783\n"
     ]
    }
   ],
   "source": [
    "print(w2v.similarity(\"nice\", \"good\"))\n",
    "print(w2v.similarity(\"nice\", \"bad\"))\n",
    "print(w2v.similarity(\"nice\", \"fast\"))\n",
    "\n",
    "print(w2v.similarity(\"good\", \"bad\"))\n",
    "\n",
    "\n",
    "print(w2v.similarity(\"red\", \"sky\"))\n",
    "print(w2v.similarity(\"yellow\", \"sky\"))\n",
    "print(w2v.similarity(\"blue\", \"sky\"))\n",
    "\n",
    "print(w2v.similarity(\"tiger\", \"lion\"))\n",
    "print(w2v.similarity(\"tiger\", \"bird\"))\n",
    "\n",
    "print(w2v.similarity(\"france\", \"paris\"))\n",
    "print(w2v.similarity(\"italy\", \"paris\"))\n",
    "print(w2v.similarity(\"italy\", \"rome\"))\n",
    "print(w2v.similarity(\"paris\", \"rome\"))\n",
    "print(w2v.similarity(\"good\", \"paris\"))"
   ]
  },
  {
   "cell_type": "markdown",
   "metadata": {},
   "source": [
    "Most similar words"
   ]
  },
  {
   "cell_type": "code",
   "execution_count": 245,
   "metadata": {
    "collapsed": false
   },
   "outputs": [
    {
     "name": "stdout",
     "output_type": "stream",
     "text": [
      "[('excellent', 0.7223856449127197), ('bad', 0.670417308807373), ('nice', 0.6091036796569824), ('better', 0.5967726707458496), ('perfect', 0.5752175450325012), ('reasonable', 0.5712679624557495), ('faith', 0.5607122778892517), ('helpful', 0.5578594207763672), ('poor', 0.5506519079208374), ('definitely', 0.5472526550292969)]\n",
      "[('france', 0.6153761148452759), ('vienna', 0.5634822845458984), ('berlin', 0.561725378036499), ('london', 0.5515710115432739), ('munich', 0.5390844345092773), ('rome', 0.5333521962165833), ('madrid', 0.5264111757278442), ('moscow', 0.5238059163093567), ('prague', 0.5211637020111084), ('french', 0.5190050005912781)]\n",
      "[('tigers', 0.5982854962348938), ('cats', 0.5247116088867188), ('lion', 0.5232507586479187), ('lions', 0.49344372749328613), ('hamilton', 0.46046364307403564), ('dragon', 0.4476792812347412), ('cat', 0.43086451292037964), ('woods', 0.43060770630836487), ('bear', 0.4008936882019043), ('wolf', 0.3999537229537964)]\n",
      "[('left', 0.6660148501396179), ('hand', 0.5235728025436401), ('handed', 0.512216329574585), ('wrong', 0.47229379415512085), ('arm', 0.45911315083503723), ('just', 0.4399382770061493), ('bottom', 0.4254627525806427), ('exactly', 0.4170149862766266), ('align', 0.4089396893978119), ('way', 0.4043542742729187)]\n"
     ]
    }
   ],
   "source": [
    "print(w2v.most_similar(\"good\"))\n",
    "print(w2v.most_similar(\"paris\"))\n",
    "print(w2v.most_similar(\"tiger\"))\n",
    "print(w2v.most_similar(\"right\"))"
   ]
  },
  {
   "cell_type": "markdown",
   "metadata": {},
   "source": [
    "### Analogy"
   ]
  },
  {
   "cell_type": "code",
   "execution_count": 246,
   "metadata": {
    "collapsed": false
   },
   "outputs": [
    {
     "name": "stdout",
     "output_type": "stream",
     "text": [
      "[('rome', 0.9118089079856873), ('milan', 0.8868755102157593), ('vienna', 0.8417394757270813), ('venice', 0.8385934829711914), ('florence', 0.8238525986671448), ('munich', 0.8000103235244751), ('prague', 0.7927053570747375), ('italian', 0.784573495388031), ('madrid', 0.7796931862831116), ('athens', 0.779522180557251)]\n",
      "[('paris', 1.0550767183303833), ('rome', 0.8601745367050171), ('munich', 0.8483597636222839), ('amsterdam', 0.8383407592773438), ('berlin', 0.8285968899726868), ('venice', 0.8250126242637634), ('french', 0.816684365272522), ('barcelona', 0.8140460848808289), ('england', 0.8124414086341858), ('vienna', 0.8115441799163818)]\n",
      "[('queen', 0.8924742341041565), ('princess', 0.8137582540512085), ('kings', 0.8062561750411987), ('reign', 0.7818456888198853), ('kingdom', 0.7693678736686707), ('throne', 0.7536834478378296), ('royal', 0.7402398586273193), ('prince', 0.7384786605834961), ('crown', 0.7332648634910583), ('elizabeth', 0.7213146090507507)]\n",
      "[('tea', 0.8334957361221313), ('beer', 0.8212700486183167), ('sugar', 0.8099021315574646), ('milk', 0.7977915406227112), ('wine', 0.7942050099372864), ('fruit', 0.7887060046195984), ('food', 0.7804027795791626), ('rice', 0.7542923092842102), ('restaurant', 0.7530092597007751), ('restaurants', 0.7307345271110535)]\n",
      "[('vehicles', 0.9059292674064636), ('cars', 0.9036244750022888), ('vehicle', 0.8967863917350769), ('motor', 0.8891515731811523), ('locomotives', 0.8754465579986572), ('engines', 0.8740256428718567), ('passenger', 0.8730894327163696), ('engine', 0.8665420413017273), ('diesel', 0.863068163394928), ('car', 0.8622881770133972)]\n",
      "[('good', 0.8663628101348877), ('wrong', 0.8139792680740356), ('hoax', 0.8080533146858215), ('poor', 0.7989814877510071), ('worse', 0.794325590133667), ('nothing', 0.7809121012687683), ('just', 0.7766373157501221), ('obviously', 0.7740558981895447), ('faith', 0.7691490650177002), ('plenty', 0.7675331234931946)]\n",
      "[('excellent', 0.8916696310043335), ('plenty', 0.8705934286117554), ('interesting', 0.8577498197555542), ('bad', 0.842410147190094), ('quick', 0.8329883217811584), ('nice', 0.828903317451477), ('better', 0.827112078666687), ('definitely', 0.8242558836936951), ('poor', 0.813267171382904), ('nothing', 0.8125601410865784)]\n"
     ]
    }
   ],
   "source": [
    "#  France : Paris = Italy : ?\n",
    "#  Pairs - France + Italy\n",
    "print(w2v.most_similar_cosmul([\"paris\", \"italy\"], [\"france\"]))\n",
    "\n",
    "#  UK : London = France : ?\n",
    "print(w2v.most_similar_cosmul([\"london\", \"france\"], [\"uk\"]))\n",
    "\n",
    "#  Male : King = Female :？\n",
    "print(w2v.most_similar_cosmul([\"king\", \"female\"], [\"male\"]))\n",
    "\n",
    "#  Black : Coffee  = Red : ?\n",
    "print(w2v.most_similar_cosmul([\"coffee\", \"red\"], [\"black\"]))\n",
    "\n",
    "#  Wing : Aircraft = Wheel : ?\n",
    "print(w2v.most_similar_cosmul([\"aircraft\", \"wheel\"], [\"wing\"]))\n",
    "\n",
    "#  Microsoft : Google = Bad : ?\n",
    "print(w2v.most_similar_cosmul([\"google\", \"bad\"], [\"microsoft\"]))\n",
    "\n",
    "#  Microsoft : Google = Good : ?\n",
    "print(w2v.most_similar_cosmul([\"google\", \"good\"], [\"microsoft\"]))\n"
   ]
  },
  {
   "cell_type": "markdown",
   "metadata": {},
   "source": [
    "## Train Word Embeddings"
   ]
  },
  {
   "cell_type": "markdown",
   "metadata": {},
   "source": [
    "Load a corpus. "
   ]
  },
  {
   "cell_type": "code",
   "execution_count": 248,
   "metadata": {
    "collapsed": false
   },
   "outputs": [
    {
     "name": "stdout",
     "output_type": "stream",
     "text": [
      "Number of characters: 2221405\n"
     ]
    }
   ],
   "source": [
    "with open(\"wealth_of_nations.txt\", encoding=\"utf8\") as fin:\n",
    "    text = fin.read()\n",
    "print(\"Number of characters: %d\" % len(text))"
   ]
  },
  {
   "cell_type": "markdown",
   "metadata": {},
   "source": [
    "## Preprocessing"
   ]
  },
  {
   "cell_type": "markdown",
   "metadata": {},
   "source": [
    "### Sentence Tokenization"
   ]
  },
  {
   "cell_type": "code",
   "execution_count": 249,
   "metadata": {
    "collapsed": false
   },
   "outputs": [
    {
     "name": "stdout",
     "output_type": "stream",
     "text": [
      "[nltk_data] Downloading package punkt to /home/hhhuang/nltk_data...\n",
      "[nltk_data]   Package punkt is already up-to-date!\n",
      "[nltk_data] Downloading package averaged_perceptron_tagger to\n",
      "[nltk_data]     /home/hhhuang/nltk_data...\n",
      "[nltk_data]   Package averaged_perceptron_tagger is already up-to-\n",
      "[nltk_data]       date!\n",
      "Number of sentences: 11914\n",
      "﻿AN INQUIRY INTO THE NATURE AND CAUSES OF THE WEALTH OF NATIONS.\n",
      "By Adam Smith\n",
      "\n",
      "\n",
      "\n",
      "\n",
      "INTRODUCTION AND PLAN OF THE WORK.\n",
      "['\\ufeffAN INQUIRY INTO THE NATURE AND CAUSES OF THE WEALTH OF NATIONS.', 'By Adam Smith\\n\\n\\n\\n\\nINTRODUCTION AND PLAN OF THE WORK.']\n",
      "Each individual becomes\n",
      "more expert in his own peculiar branch, more work is done upon the\n",
      "whole, and the quantity of science is considerably increased by it.\n"
     ]
    }
   ],
   "source": [
    "import nltk\n",
    "nltk.download('punkt')\n",
    "nltk.download('averaged_perceptron_tagger')\n",
    "from nltk.tokenize import sent_tokenize\n",
    "\n",
    "sents = sent_tokenize(text)\n",
    "print(\"Number of sentences: %d\" % len(sents))\n",
    "\n",
    "print(sents[0])\n",
    "print(sents[1])\n",
    "\n",
    "print(sents[:2])\n",
    "\n",
    "print(sents[100])"
   ]
  },
  {
   "cell_type": "markdown",
   "metadata": {},
   "source": [
    "### Word Tokenization"
   ]
  },
  {
   "cell_type": "code",
   "execution_count": 250,
   "metadata": {
    "collapsed": false
   },
   "outputs": [
    {
     "name": "stdout",
     "output_type": "stream",
     "text": [
      "['\\ufeffan', 'inquiry', 'into', 'the', 'nature', 'and', 'causes', 'of', 'the', 'wealth', 'of', 'nations', '.']\n",
      "['by', 'adam', 'smith', 'introduction', 'and', 'plan', 'of', 'the', 'work', '.']\n",
      "['each', 'individual', 'becomes', 'more', 'expert', 'in', 'his', 'own', 'peculiar', 'branch', ',', 'more', 'work', 'is', 'done', 'upon', 'the', 'whole', ',', 'and', 'the', 'quantity', 'of', 'science', 'is', 'considerably', 'increased', 'by', 'it', '.']\n"
     ]
    }
   ],
   "source": [
    "from nltk.corpus import stopwords\n",
    "stopword_list = stopwords.words('english')\n",
    "\n",
    "from nltk.tokenize import word_tokenize\n",
    "\n",
    "sent_tokens = []\n",
    "for sent in sents:\n",
    "    sent_tokens.append(word_tokenize(sent.lower()))\n",
    "\n",
    "print(sent_tokens[0])\n",
    "print(sent_tokens[1])\n",
    "print(sent_tokens[100])\n"
   ]
  },
  {
   "cell_type": "markdown",
   "metadata": {},
   "source": [
    "## Train Word2Vec"
   ]
  },
  {
   "cell_type": "code",
   "execution_count": 251,
   "metadata": {
    "collapsed": true
   },
   "outputs": [],
   "source": [
    "from gensim.models import Word2Vec\n",
    "model = Word2Vec(sent_tokens, min_count=5, size=100, sg=1, hs=1, negative=5, iter=10)"
   ]
  },
  {
   "cell_type": "code",
   "execution_count": 252,
   "metadata": {
    "collapsed": false
   },
   "outputs": [
    {
     "name": "stdout",
     "output_type": "stream",
     "text": [
      "[  4.60362583e-01   6.39535785e-01   2.04955935e-01   7.02492371e-02\n",
      "  -2.09134176e-01  -1.59309939e-01   6.65942967e-01   5.32595143e-02\n",
      "   3.25319260e-01   5.38660586e-01   4.21536922e-01   2.41224051e-01\n",
      "  -4.18766409e-01  -1.91352970e-03   2.37767380e-02   2.90381551e-01\n",
      "  -1.72626093e-01  -3.30833167e-01  -1.71195582e-01  -5.93908012e-01\n",
      "  -7.79925734e-02   6.05709493e-01  -1.10002756e-01   5.02286196e-01\n",
      "  -1.96098164e-01  -3.60251844e-01   3.18466306e-01  -1.11539602e-01\n",
      "  -1.89683270e-02   2.76317328e-01   1.30560189e-01   3.86668354e-01\n",
      "  -5.06417453e-01   2.42121562e-01   1.65266275e-01   6.27802253e-01\n",
      "   2.28064805e-01   1.05321097e+00  -1.40832454e-01   2.34805107e-01\n",
      "   5.09088933e-01  -2.42654935e-01   9.66440737e-02  -3.19354057e-01\n",
      "  -5.59546351e-01   4.51132096e-02   2.48230547e-01  -3.36633399e-02\n",
      "   4.29330736e-01   1.71067029e-01  -1.30049378e-01  -2.06958324e-01\n",
      "  -3.13035659e-02  -5.56987882e-01   2.74091452e-01  -1.95177346e-01\n",
      "  -4.89114958e-04  -1.20115422e-01   4.19248670e-01  -4.23634976e-01\n",
      "  -5.37592173e-01  -3.21276665e-01  -1.47498250e-01  -2.19905376e-01\n",
      "   1.44985601e-01  -1.90337330e-01   4.55051214e-01  -8.00901592e-01\n",
      "   1.03907323e+00  -4.73322839e-01  -3.17472458e-01  -2.12111339e-01\n",
      "  -1.28482327e-01  -5.88996768e-01   1.37879401e-01  -3.97836655e-01\n",
      "   1.04100198e-01   1.80932105e-01  -1.44065276e-01   4.08001423e-01\n",
      "   3.83697093e-01   5.45697212e-02   1.33159041e-01  -1.26420736e-01\n",
      "   1.75474845e-02   2.54808486e-01  -8.28975260e-01   5.30140638e-01\n",
      "  -4.92317826e-02   4.87783514e-02  -3.51787694e-02  -1.52100012e-01\n",
      "   2.87901074e-01   9.47769761e-01   3.68247241e-01  -4.25414294e-01\n",
      "  -6.41476870e-01  -3.11188966e-01  -1.38565868e-01  -1.64213747e-01]\n",
      "100\n"
     ]
    }
   ],
   "source": [
    "print(model[\"class\"])\n",
    "\n",
    "print(len(model[\"class\"]))"
   ]
  },
  {
   "cell_type": "code",
   "execution_count": 253,
   "metadata": {
    "collapsed": false
   },
   "outputs": [
    {
     "name": "stdout",
     "output_type": "stream",
     "text": [
      "Number of words: 3976\n"
     ]
    }
   ],
   "source": [
    "print(\"Number of words: %d\" % len(model.wv.vocab))"
   ]
  },
  {
   "cell_type": "markdown",
   "metadata": {},
   "source": [
    "## Similarity"
   ]
  },
  {
   "cell_type": "code",
   "execution_count": 254,
   "metadata": {
    "collapsed": false
   },
   "outputs": [
    {
     "name": "stdout",
     "output_type": "stream",
     "text": [
      "[('riches', 0.603710412979126), ('population', 0.5929688811302185), ('greatness', 0.5897786617279053), ('prosperity', 0.5635780096054077), ('scantiness', 0.5582976937294006), ('real', 0.556060254573822), ('increase', 0.5465716123580933), ('abundance', 0.5330773591995239), ('flourishing', 0.5221944451332092), ('augment', 0.517676830291748)]\n",
      "[('nations', 0.6831791400909424), ('monarchy', 0.5259580612182617), ('civilized', 0.5026169419288635), ('militia', 0.5007185935974121), ('tartar', 0.4926064908504486), ('country', 0.4818142056465149), ('barbarous', 0.4749574661254883), ('chinese', 0.4625200033187866), ('husbandmen', 0.4524790048599243), ('national', 0.44531217217445374)]\n",
      "[('holders', 0.5818991661071777), ('paper', 0.5673460960388184), ('currency', 0.5600569248199463), ('bank', 0.5552958846092224), ('nominal', 0.5460468530654907), ('sum', 0.5429784655570984), ('receipts', 0.5371195077896118), ('bullion', 0.5344173908233643), ('issuing', 0.517709493637085), ('receipt', 0.5120026469230652)]\n"
     ]
    }
   ],
   "source": [
    "print(model.most_similar(\"wealth\"))\n",
    "print(model.most_similar(\"nation\"))\n",
    "print(model.most_similar(\"money\"))"
   ]
  },
  {
   "cell_type": "code",
   "execution_count": 226,
   "metadata": {
    "collapsed": false
   },
   "outputs": [
    {
     "name": "stdout",
     "output_type": "stream",
     "text": [
      "Distance between class and classes: 0.434105\n",
      "Distance between country and national: 0.522064\n",
      "Distance between rich and poor: 0.638376\n"
     ]
    }
   ],
   "source": [
    "print(\"Distance between %s and %s: %f\" % (\"class\", \"classes\", model.similarity(\"class\", \"classes\")))\n",
    "print(\"Distance between %s and %s: %f\" % (\"country\", \"national\", model.similarity(\"country\", \"nation\")))\n",
    "print(\"Distance between %s and %s: %f\" % (\"rich\", \"poor\", model.similarity(\"rich\", \"poor\")))"
   ]
  },
  {
   "cell_type": "code",
   "execution_count": 266,
   "metadata": {
    "collapsed": false
   },
   "outputs": [
    {
     "name": "stdout",
     "output_type": "stream",
     "text": [
      "[('labourer', 0.8894832730293274), ('real', 0.8498735427856445), ('degrade', 0.8256235718727112), ('tenant', 0.8214815855026245), ('raise', 0.807263970375061), ('land', 0.8030595183372498), ('everybody', 0.7984280586242676), ('ignorance', 0.7888776063919067), ('rent', 0.7879635691642761), ('planter', 0.785340428352356)]\n"
     ]
    }
   ],
   "source": [
    "#  Capital : Landlord = Labour : ?\n",
    "print(model.most_similar_cosmul([\"landlord\", \"labour\"], [\"capital\"]))"
   ]
  },
  {
   "cell_type": "markdown",
   "metadata": {},
   "source": [
    "## Visualization"
   ]
  },
  {
   "cell_type": "code",
   "execution_count": 269,
   "metadata": {
    "collapsed": false
   },
   "outputs": [],
   "source": [
    "%matplotlib inline\n",
    "import matplotlib.pyplot as plt"
   ]
  },
  {
   "cell_type": "code",
   "execution_count": 276,
   "metadata": {
    "collapsed": false
   },
   "outputs": [
    {
     "data": {
      "image/png": "[encoded data removed]",
      "text/plain": [
       "<Figure size 432x288 with 1 Axes>"
      ]
     },
     "metadata": {},
     "output_type": "display_data"
    }
   ],
   "source": [
    "plt.scatter(x=[1, 3], y=[-2, 4])\n",
    "plt.axis('equal');"
   ]
  },
  {
   "cell_type": "markdown",
   "metadata": {},
   "source": [
    "## Principle Component Analysis"
   ]
  },
  {
   "cell_type": "code",
   "execution_count": 306,
   "metadata": {
    "collapsed": false
   },
   "outputs": [
    {
     "data": {
      "text/plain": [
       "PCA(copy=True, iterated_power='auto', n_components=2, random_state=None,\n",
       "  svd_solver='auto', tol=0.0, whiten=False)"
      ]
     },
     "execution_count": 306,
     "metadata": {},
     "output_type": "execute_result"
    }
   ],
   "source": [
    "from sklearn.decomposition import PCA\n",
    "pca = PCA(n_components=2)\n",
    "\n",
    "words = [\"landlord\", \"labour\", \"labourer\", \"class\", \"rich\", \"money\", \"wealth\", \"farmer\"]\n",
    "X = []\n",
    "for word in words:\n",
    "    X.append(model[word])\n",
    "pca.fit(X)"
   ]
  },
  {
   "cell_type": "code",
   "execution_count": 307,
   "metadata": {
    "collapsed": false
   },
   "outputs": [
    {
     "name": "stdout",
     "output_type": "stream",
     "text": [
      "[[-1.55475747  0.71801456]\n",
      " [ 0.55210951  0.15809895]\n",
      " [-0.93189029 -0.02882513]\n",
      " [ 2.19046523  2.30629535]\n",
      " [ 0.42683729 -1.00036743]\n",
      " [-0.81319616 -1.15857369]\n",
      " [ 1.55912344 -2.00342462]\n",
      " [-1.42869155  1.00878202]]\n"
     ]
    }
   ],
   "source": [
    "points = pca.transform(X)\n",
    "\n",
    "print(points)"
   ]
  },
  {
   "cell_type": "code",
   "execution_count": 308,
   "metadata": {
    "collapsed": false
   },
   "outputs": [
    {
     "data": {
      "image/png": "[encoded data removed]",
      "text/plain": [
       "<Figure size 432x288 with 1 Axes>"
      ]
     },
     "metadata": {},
     "output_type": "display_data"
    }
   ],
   "source": [
    "for i in range(len(points)):\n",
    "    label = words[i]\n",
    "    x = points[i][0]\n",
    "    y = points[i][1]\n",
    "    plt.scatter(x, y)\n",
    "    plt.annotate(label, xy=(x, y))\n",
    "plt.axis('equal');"
   ]
  },
  {
   "cell_type": "code",
   "execution_count": 312,
   "metadata": {
    "collapsed": false
   },
   "outputs": [
    {
     "data": {
      "image/png": "[encoded data removed]",
      "text/plain": [
       "<Figure size 432x288 with 1 Axes>"
      ]
     },
     "metadata": {},
     "output_type": "display_data"
    }
   ],
   "source": [
    "from sklearn.decomposition import PCA\n",
    "pca = PCA(n_components=2)\n",
    "\n",
    "words = [\"france\", \"usa\", \"uk\", \"china\", \"taiwan\", \"german\", \"italy\", \"ireland\", \"england\", \"scotland\", \"japan\", \"india\", \"russia\"]\n",
    "X = []\n",
    "for word in words:\n",
    "    X.append(w2v[word])\n",
    "pca.fit(X)\n",
    "points = pca.transform(X)\n",
    "\n",
    "for i in range(len(points)):\n",
    "    label = words[i]\n",
    "    x = points[i][0]\n",
    "    y = points[i][1]\n",
    "    plt.scatter(x, y)\n",
    "    plt.annotate(label, xy=(x, y))\n",
    "plt.axis('equal');"
   ]
  },
  {
   "cell_type": "code",
   "execution_count": null,
   "metadata": {
    "collapsed": true
   },
   "outputs": [],
   "source": []
  }
 ],
 "metadata": {
  "kernelspec": {
   "display_name": "Python 3",
   "language": "python",
   "name": "python3"
  },
  "language_info": {
   "codemirror_mode": {
    "name": "ipython",
    "version": 3
   },
   "file_extension": ".py",
   "mimetype": "text/x-python",
   "name": "python",
   "nbconvert_exporter": "python",
   "pygments_lexer": "ipython3",
   "version": "3.4.2"
  }
 },
 "nbformat": 4,
 "nbformat_minor": 1
}
