{
 "cells": [
  {
   "cell_type": "markdown",
   "metadata": {},
   "source": [
    "# Search"
   ]
  },
  {
   "cell_type": "markdown",
   "metadata": {},
   "source": [
    "## Build Data"
   ]
  },
  {
   "cell_type": "code",
   "execution_count": 90,
   "metadata": {
    "collapsed": false
   },
   "outputs": [
    {
     "name": "stdout",
     "output_type": "stream",
     "text": [
      "Number of documents: 5669\n",
      "{'content': ['Mounting', 'trade', 'friction', 'between', 'the', 'U', '.', 'S', '.', 'And', 'Japan', 'has', 'raised', 'fears', 'among', 'many', 'of', 'Asia', \"'\", 's', 'exporting', 'nations', 'that', 'the', 'row', 'could', 'inflict', 'far', '-', 'reaching', 'economic', 'damage', ',', 'businessmen', 'and', 'officials', 'said', '.', 'They', 'told', 'Reuter', 'correspondents', 'in', 'Asian', 'capitals', 'a', 'U', '.', 'S', '.', 'Move', 'against', 'Japan', 'might', 'boost', 'protectionist', 'sentiment', 'in', 'the', 'U', '.', 'S', '.', 'And', 'lead', 'to', 'curbs', 'on', 'American', 'imports', 'of', 'their', 'products', '.', 'But', 'some', 'exporters', 'said', 'that', 'while', 'the', 'conflict', 'would', 'hurt', 'them', 'in', 'the', 'long', '-', 'run', ',', 'in', 'the', 'short', '-', 'term', 'Tokyo', \"'\", 's', 'loss', 'might', 'be', 'their', 'gain', '.', 'The', 'U', '.', 'S', '.', 'Has', 'said', 'it', 'will', 'impose', '300', 'mln', 'dlrs', 'of', 'tariffs', 'on', 'imports', 'of', 'Japanese', 'electronics', 'goods', 'on', 'April', '17', ',', 'in', 'retaliation', 'for', 'Japan', \"'\", 's', 'alleged', 'failure', 'to', 'stick', 'to', 'a', 'pact', 'not', 'to', 'sell', 'semiconductors', 'on', 'world', 'markets', 'at', 'below', 'cost', '.', 'Unofficial', 'Japanese', 'estimates', 'put', 'the', 'impact', 'of', 'the', 'tariffs', 'at', '10', 'billion', 'dlrs', 'and', 'spokesmen', 'for', 'major', 'electronics', 'firms', 'said', 'they', 'would', 'virtually', 'halt', 'exports', 'of', 'products', 'hit', 'by', 'the', 'new', 'taxes', '.', '\"', 'We', 'wouldn', \"'\", 't', 'be', 'able', 'to', 'do', 'business', ',\"', 'said', 'a', 'spokesman', 'for', 'leading', 'Japanese', 'electronics', 'firm', 'Matsushita', 'Electric', 'Industrial', 'Co', 'Ltd', '&', 'lt', ';', 'MC', '.', 'T', '>.', '\"', 'If', 'the', 'tariffs', 'remain', 'in', 'place', 'for', 'any', 'length', 'of', 'time', 'beyond', 'a', 'few', 'months', 'it', 'will', 'mean', 'the', 'complete', 'erosion', 'of', 'exports', '(', 'of', 'goods', 'subject', 'to', 'tariffs', ')', 'to', 'the', 'U', '.', 'S', '.,\"', 'said', 'Tom', 'Murtha', ',', 'a', 'stock', 'analyst', 'at', 'the', 'Tokyo', 'office', 'of', 'broker', '&', 'lt', ';', 'James', 'Capel', 'and', 'Co', '>.', 'In', 'Taiwan', ',', 'businessmen', 'and', 'officials', 'are', 'also', 'worried', '.', '\"', 'We', 'are', 'aware', 'of', 'the', 'seriousness', 'of', 'the', 'U', '.', 'S', '.', 'Threat', 'against', 'Japan', 'because', 'it', 'serves', 'as', 'a', 'warning', 'to', 'us', ',\"', 'said', 'a', 'senior', 'Taiwanese', 'trade', 'official', 'who', 'asked', 'not', 'to', 'be', 'named', '.', 'Taiwan', 'had', 'a', 'trade', 'trade', 'surplus', 'of', '15', '.', '6', 'billion', 'dlrs', 'last', 'year', ',', '95', 'pct', 'of', 'it', 'with', 'the', 'U', '.', 'S', '.', 'The', 'surplus', 'helped', 'swell', 'Taiwan', \"'\", 's', 'foreign', 'exchange', 'reserves', 'to', '53', 'billion', 'dlrs', ',', 'among', 'the', 'world', \"'\", 's', 'largest', '.', '\"', 'We', 'must', 'quickly', 'open', 'our', 'markets', ',', 'remove', 'trade', 'barriers', 'and', 'cut', 'import', 'tariffs', 'to', 'allow', 'imports', 'of', 'U', '.', 'S', '.', 'Products', ',', 'if', 'we', 'want', 'to', 'defuse', 'problems', 'from', 'possible', 'U', '.', 'S', '.', 'Retaliation', ',\"', 'said', 'Paul', 'Sheen', ',', 'chairman', 'of', 'textile', 'exporters', '&', 'lt', ';', 'Taiwan', 'Safe', 'Group', '>.', 'A', 'senior', 'official', 'of', 'South', 'Korea', \"'\", 's', 'trade', 'promotion', 'association', 'said', 'the', 'trade', 'dispute', 'between', 'the', 'U', '.', 'S', '.', 'And', 'Japan', 'might', 'also', 'lead', 'to', 'pressure', 'on', 'South', 'Korea', ',', 'whose', 'chief', 'exports', 'are', 'similar', 'to', 'those', 'of', 'Japan', '.', 'Last', 'year', 'South', 'Korea', 'had', 'a', 'trade', 'surplus', 'of', '7', '.', '1', 'billion', 'dlrs', 'with', 'the', 'U', '.', 'S', '.,', 'Up', 'from', '4', '.', '9', 'billion', 'dlrs', 'in', '1985', '.', 'In', 'Malaysia', ',', 'trade', 'officers', 'and', 'businessmen', 'said', 'tough', 'curbs', 'against', 'Japan', 'might', 'allow', 'hard', '-', 'hit', 'producers', 'of', 'semiconductors', 'in', 'third', 'countries', 'to', 'expand', 'their', 'sales', 'to', 'the', 'U', '.', 'S', '.', 'In', 'Hong', 'Kong', ',', 'where', 'newspapers', 'have', 'alleged', 'Japan', 'has', 'been', 'selling', 'below', '-', 'cost', 'semiconductors', ',', 'some', 'electronics', 'manufacturers', 'share', 'that', 'view', '.', 'But', 'other', 'businessmen', 'said', 'such', 'a', 'short', '-', 'term', 'commercial', 'advantage', 'would', 'be', 'outweighed', 'by', 'further', 'U', '.', 'S', '.', 'Pressure', 'to', 'block', 'imports', '.', '\"', 'That', 'is', 'a', 'very', 'short', '-', 'term', 'view', ',\"', 'said', 'Lawrence', 'Mills', ',', 'director', '-', 'general', 'of', 'the', 'Federation', 'of', 'Hong', 'Kong', 'Industry', '.', '\"', 'If', 'the', 'whole', 'purpose', 'is', 'to', 'prevent', 'imports', ',', 'one', 'day', 'it', 'will', 'be', 'extended', 'to', 'other', 'sources', '.', 'Much', 'more', 'serious', 'for', 'Hong', 'Kong', 'is', 'the', 'disadvantage', 'of', 'action', 'restraining', 'trade', ',\"', 'he', 'said', '.', 'The', 'U', '.', 'S', '.', 'Last', 'year', 'was', 'Hong', 'Kong', \"'\", 's', 'biggest', 'export', 'market', ',', 'accounting', 'for', 'over', '30', 'pct', 'of', 'domestically', 'produced', 'exports', '.', 'The', 'Australian', 'government', 'is', 'awaiting', 'the', 'outcome', 'of', 'trade', 'talks', 'between', 'the', 'U', '.', 'S', '.', 'And', 'Japan', 'with', 'interest', 'and', 'concern', ',', 'Industry', 'Minister', 'John', 'Button', 'said', 'in', 'Canberra', 'last', 'Friday', '.', '\"', 'This', 'kind', 'of', 'deterioration', 'in', 'trade', 'relations', 'between', 'two', 'countries', 'which', 'are', 'major', 'trading', 'partners', 'of', 'ours', 'is', 'a', 'very', 'serious', 'matter', ',\"', 'Button', 'said', '.', 'He', 'said', 'Australia', \"'\", 's', 'concerns', 'centred', 'on', 'coal', 'and', 'beef', ',', 'Australia', \"'\", 's', 'two', 'largest', 'exports', 'to', 'Japan', 'and', 'also', 'significant', 'U', '.', 'S', '.', 'Exports', 'to', 'that', 'country', '.', 'Meanwhile', 'U', '.', 'S', '.-', 'Japanese', 'diplomatic', 'manoeuvres', 'to', 'solve', 'the', 'trade', 'stand', '-', 'off', 'continue', '.', 'Japan', \"'\", 's', 'ruling', 'Liberal', 'Democratic', 'Party', 'yesterday', 'outlined', 'a', 'package', 'of', 'economic', 'measures', 'to', 'boost', 'the', 'Japanese', 'economy', '.', 'The', 'measures', 'proposed', 'include', 'a', 'large', 'supplementary', 'budget', 'and', 'record', 'public', 'works', 'spending', 'in', 'the', 'first', 'half', 'of', 'the', 'financial', 'year', '.', 'They', 'also', 'call', 'for', 'stepped', '-', 'up', 'spending', 'as', 'an', 'emergency', 'measure', 'to', 'stimulate', 'the', 'economy', 'despite', 'Prime', 'Minister', 'Yasuhiro', 'Nakasone', \"'\", 's', 'avowed', 'fiscal', 'reform', 'program', '.', 'Deputy', 'U', '.', 'S', '.', 'Trade', 'Representative', 'Michael', 'Smith', 'and', 'Makoto', 'Kuroda', ',', 'Japan', \"'\", 's', 'deputy', 'minister', 'of', 'International', 'Trade', 'and', 'Industry', '(', 'MITI', '),', 'are', 'due', 'to', 'meet', 'in', 'Washington', 'this', 'week', 'in', 'an', 'effort', 'to', 'end', 'the', 'dispute', '.'], 'title': 'ASIAN EXPORTERS FEAR DAMAGE FROM U . S .- JAPAN RIFT'}\n"
     ]
    }
   ],
   "source": [
    "import json\n",
    "\n",
    "with open(\"reuters.json\") as fin:\n",
    "    documents = json.load(fin)\n",
    "\n",
    "print(\"Number of documents: %d\" % len(documents))\n",
    "print(documents[0])"
   ]
  },
  {
   "cell_type": "markdown",
   "metadata": {},
   "source": [
    "## Search for a single query term"
   ]
  },
  {
   "cell_type": "code",
   "execution_count": 91,
   "metadata": {
    "collapsed": false
   },
   "outputs": [
    {
     "name": "stdout",
     "output_type": "stream",
     "text": [
      "['VW SAYS 480 MLN MARKS MAXIMUM FOR CURRENCY LOSSES', 'JAPAN WARNS U . S . IT MAY RETALIATE IN TRADE DISPUTE', 'SINGAPORE EXTERNAL TRADE GAINS 8 . 8 PCT IN QUARTER', 'TALKING POINT / IBM &', 'YEUTTER SAYS JAPANESE CURB ALL BUT CERTAIN U . S .', 'COMPUTERLAND TO BE ACQUIRED BY INVESTOR GROUP', 'ENTERTAINMENT MARKETING TOPS CRAZY EDDIE OFFER A', 'INVESTORS MAY TAKE COMPUTERLAND PUBLIC', 'SHULTZ WELCOMES TOKYO ECONOMIC PACKAGE U . S .', 'TOSHIBA , SHARP RESTRAIN LAP - TOP PC EXPORTS TO EC', 'MITSUI BUYS FIVE PCT STAKE IN U . S . CHIP MAKER', 'NEW LEADER COMING TO U . S . SEC IN CHALLENGING ERA', 'NAKASONE HARD - PRESSED TO SOOTHE U . S ANGER ON TRADE', 'HONEYWELL BULL SEES REVENUE GROWTH', \"JAPAN ' S CHIP MAKERS ANGERED BY U . S . SANCTION PLANS\", 'NAKASONE SOUNDS CONCILIATORY NOTE IN CHIP DISPUTE', 'TOKYO BIDS TO STOP CHIP ROW TURNING INTO TRADE WAR', 'JAPAN HAS LITTLE NEW TO OFFER IN MICROCHIP DISPUTE', 'NAKASONE SOUNDS CONCILIATORY NOTE IN CHIP DISPUTE', 'TOKYO BIDS TO STOP CHIP ROW BECOMING TRADE WAR', 'ECONOMIC SPOTLIGHT - U . S . CONGRESS RAPS JAPAN', 'EUROPE ON SIDELINES IN U . S - JAPAN MICROCHIP ROW', 'U . S . SETS CORN DEFICIENCY PAYMENT HALF PIK CERTS', 'U . S . STOCK MARKET OVERREACTS TO TARIFFS - YEUTTER U . S .', 'ENVOY ADVISES NAKASONE TO PREPARE FOR U . S . VISIT', 'U . S .- JAPAN NOT IN TRADE WAR , YEUTTER SAYS', 'JAPAN / U . S . WILL BE AT ODDS WHILE TRADE LOPSIDED', 'JAPAN WARNS OF ANTI - U . S . SENTIMENT IN TRADE ROW', 'JAPAN / U . S . WILL BE AT ODDS WHILE TRADE LOPSIDED', 'EC MINISTERS WILL DISCUSS STRENGTHENING EMS FLOAT', 'IMF , WORLD BANK TO MEET AMID NEW INFLATION FEARS', 'JAPAN CUTS CHIP SUPPLY , MAY PRODUCE SHORTAGE', 'BALDRIGE CONCERNED ABOUT KOREAN / TAIWAN DEFICITS', 'GATT COUNCIL DEFERS DECISION ON SEMICONDUCTORS', 'U . S . TELLS JAPAN TO DO MORE TO CUT TRADE SURPLUS U . S .', 'MATHEMATICAL APPLICATIONS SETS OPERATIONS SALE', 'EXCO BUYS U . S . GOVERNMENT SECURITIES BROKER &', 'JAPAN , U . S . SET TO BEGIN HIGH - LEVEL TRADE TALKS', \"SEARCH FOR BRITISH FERRY ' S TOXIC CARGO CONTINUES\", 'WEINBERGER OPPOSES FUJITSU BUYING U . S . FIRM', 'FAIRCHILD DEAL FAILURE SEEN MAKING JAPANESE WARY', 'SURALCO ALUMINA EXPORTS DROPPED 75 PCT IN FEB', 'VENTRA BUYS JOINT VENTURE LEASING', 'PAPER SAYS U . S . MAY SEEK TO CURB FOREIGN TAKEOVERS', 'ECONOMIC SPOTLIGHT - JAPAN BUYING OVERSEAS FIRMS', 'PILGRIM VENTURE IN MERGER AGREEMENT &', 'GROUP RECONSIDERS COMPUTER MEMORIES &', 'JAPAN TO ASK CHIP MAKERS TO SLASH OUTPUT FURTHER', 'SCAN - GRAPHICS TO MERGE WITH PUBLIC COMPANY', 'ECONOMIC SPOTLIGHT - U . S . DEFICIT WITH', 'WAVEHILL INTERNATIONAL TO MAKE ACQUISITION &', 'JAPAN IN LAST DITCH EFFORT TO SAVE CHIP PACT', 'BRAZIL COMPUTER MARKET TO REMAIN CLOSED - MINISTER', 'CAROLIAN SYSTEMS SEES LOWER FISCAL 1987 PROFIT &']\n"
     ]
    }
   ],
   "source": [
    "def search(docs, query):\n",
    "    results = []\n",
    "    for doc in docs:\n",
    "        if query in doc['content']:\n",
    "            results.append(doc['title'])\n",
    "    return results\n",
    "\n",
    "\n",
    "query = \"computer\"\n",
    "\n",
    "print(search(documents, query))"
   ]
  },
  {
   "cell_type": "markdown",
   "metadata": {},
   "source": [
    "## Search for multiple terms"
   ]
  },
  {
   "cell_type": "code",
   "execution_count": 92,
   "metadata": {
    "collapsed": false
   },
   "outputs": [
    {
     "name": "stdout",
     "output_type": "stream",
     "text": [
      "Number of matched results: 21\n",
      "ASIAN EXPORTERS FEAR DAMAGE FROM U . S .- JAPAN RIFT\n",
      "JAPAN MINISTRY SAYS OPEN FARM TRADE WOULD HIT U . S .\n",
      "JAPAN ' S LDP URGES MORE IMPORTS OF 12 FARM ITEMS\n",
      "U . S . URGES JAPAN TO OPEN FARM MARKET FURTHER U . S .\n",
      "LYNG OPENS JAPAN TALKS ON FARM TRADE BARRIERS U . S .\n",
      "U . S . URGES JAPAN TO OPEN FARM MARKET FURTHER U . S .\n",
      "U . S . MEAT INDUSTRY LAUNCHES CAMPAIGN IN JAPAN\n",
      "GATT CASE AGAINST JAPAN A MODEL FOR U . S . - LYNG\n",
      "U . S . TAKES TOUGH STAND ON GATT FARM ISSUES\n",
      "EC AGREES TRADE DEAL WITH ARGENTINA\n"
     ]
    }
   ],
   "source": [
    "def match(doc_terms, query_terms):\n",
    "    for term in query_terms:\n",
    "        if term not in doc_terms:\n",
    "            return False\n",
    "    return True\n",
    "\n",
    "def search(docs, query):\n",
    "    query_terms = query.split(\" \")\n",
    "    results = []\n",
    "    for doc in docs:\n",
    "        if match(doc['content'], query_terms):\n",
    "            results.append(doc['title'])\n",
    "    return results\n",
    "\n",
    "query = \"Japan beef\"\n",
    "results = search(documents, query)\n",
    "print(\"Number of matched results: %d\" % len(results))\n",
    "print(\"\\n\".join(results[0:10]))"
   ]
  },
  {
   "cell_type": "markdown",
   "metadata": {},
   "source": [
    "## TF-IDF"
   ]
  },
  {
   "cell_type": "code",
   "execution_count": 93,
   "metadata": {
    "collapsed": false
   },
   "outputs": [],
   "source": [
    "from collections import Counter\n",
    "\n",
    "term_freq = Counter()\n",
    "doc_freq = Counter()\n",
    "\n",
    "for doc in documents:\n",
    "    doc_terms = set()\n",
    "    for w in doc['content']:\n",
    "        term_freq[w] += 1\n",
    "        doc_terms.add(w)\n",
    "    for w in doc_terms:\n",
    "        doc_freq[w] += 1"
   ]
  },
  {
   "cell_type": "code",
   "execution_count": 94,
   "metadata": {
    "collapsed": false
   },
   "outputs": [
    {
     "name": "stdout",
     "output_type": "stream",
     "text": [
      "Most frequent terms:\n",
      "[('.', 65574), ('the', 47222), (',', 46891), ('to', 26853), ('of', 25821), ('in', 21209), ('and', 18750), ('said', 18485), ('a', 17638), ('for', 9145), ('mln', 9128), ('-', 9003), ('The', 8825), (\"'\", 8457), ('pct', 7529), ('s', 7246), ('on', 6853), ('from', 6145), ('that', 6118), ('is', 5835), ('\"', 5775), ('dlrs', 5654), ('by', 5533), ('1', 5510), ('at', 5409), ('it', 5379), ('was', 4969), ('be', 4906), ('year', 4748), ('with', 4704), ('U', 4604), ('000', 4450), ('S', 4418), ('its', 4337), ('billion', 4320), ('vs', 4315), ('will', 4115), ('would', 3906), ('2', 3738), ('as', 3433), (';', 3400), ('lt', 3349), ('/', 3327), ('has', 3324), ('not', 3285), ('an', 3273), ('he', 3159), (',\"', 2990), ('which', 2873), ('3', 2861)]\n",
      "Most frequent document terms:\n",
      "[('.', 5518), (',', 5260), ('of', 4774), ('the', 4675), ('said', 4608), ('to', 4505), ('and', 4409), ('in', 4328), ('a', 4186), ('The', 3645), ('for', 3481), ('-', 3132), (\"'\", 3066), ('s', 2929), ('on', 2869), ('from', 2800), ('it', 2629), ('by', 2603), ('at', 2591), ('is', 2481), ('with', 2407), ('was', 2358), ('mln', 2349), ('its', 2256), ('pct', 2250), ('1', 2237), ('that', 2213), ('be', 2133), ('year', 2019), (';', 2004), ('lt', 1985), ('an', 1953), ('dlrs', 1920), ('will', 1886), ('>', 1865), ('has', 1848), ('which', 1806), ('not', 1787), ('2', 1751), ('U', 1743), ('as', 1737), ('would', 1733), ('\"', 1704), ('S', 1680), ('were', 1571), ('5', 1560), ('last', 1549), ('this', 1540), ('3', 1499), ('are', 1466)]\n",
      "Terms with the highest TFIDF:\n",
      "[('the', 13133.755890104927), ('vs', 11819.897451299465), ('mln', 11602.122089408393), ('pct', 10037.43141662644), ('\"', 10014.825591502971), ('billion', 9708.298988635965), ('to', 8903.573031221764), ('dlrs', 8831.479915724472), ('000', 8735.648149554252), ('/', 8538.756942662225), ('that', 8302.681624636662), ('in', 8258.652467773287), ('U', 7833.805905389986), ('S', 7751.968753725295), ('a', 7717.012287508844), ('-', 7706.658538925057), (\"'\", 7499.131190762607), ('1', 7391.824860309295), ('tonnes', 7101.385223833243), ('year', 7071.924546100801), ('is', 6956.326735464018), ('be', 6918.491748867262), ('s', 6903.163306261671), ('and', 6799.552353818978), ('on', 6733.389801100871), ('would', 6678.567132859057), ('he', 6604.153901689901), ('will', 6533.651300788917), ('cts', 6434.3737582039785), ('for', 6434.353001850576), ('of', 6400.914940388855), ('oil', 6358.193774547681), ('2', 6335.592962972378), ('was', 6288.42130712229), (',\"', 6260.578976192779), ('from', 6253.566431010715), ('by', 6213.110591378935), ('at', 6109.926636935147), ('trade', 5996.730016845508), ('it', 5963.052504216226), ('as', 5858.402536369312), ('with', 5813.476631030548), ('its', 5765.292072561284), ('0', 5695.314602771666), ('The', 5623.073386890246), ('said', 5526.156415690954), ('3', 5490.527607478552), ('not', 5471.346975245519), ('1986', 5451.2519110030335), ('has', 5375.338499228798)]\n"
     ]
    }
   ],
   "source": [
    "import math\n",
    "\n",
    "tfidf = Counter()\n",
    "num_docs = len(documents)\n",
    "for w in term_freq:\n",
    "    tfidf[w] = term_freq[w] * math.log2(num_docs/doc_freq[w])\n",
    "\n",
    "print(\"Most frequent terms:\")\n",
    "print(term_freq.most_common(50))\n",
    "\n",
    "print(\"Most frequent document terms:\")\n",
    "print(doc_freq.most_common(50))\n",
    "\n",
    "print(\"Terms with the highest TFIDF:\")\n",
    "print(tfidf.most_common(50))"
   ]
  },
  {
   "cell_type": "code",
   "execution_count": 95,
   "metadata": {
    "collapsed": false
   },
   "outputs": [
    {
     "name": "stdout",
     "output_type": "stream",
     "text": [
      "Most frequent terms:\n",
      "[('said', 18494), ('mln', 9160), ('pct', 7551), ('dlrs', 5815), ('year', 5071), ('u', 4607), ('billion', 4321), ('vs', 4317), ('would', 3930), ('lt', 3351), ('last', 2770), ('bank', 2731), ('trade', 2699), ('oil', 2382), ('cts', 2322), ('market', 2320), ('tonnes', 2307), ('net', 2190), ('one', 1998), ('company', 1983), ('new', 1974), ('also', 1826), ('prices', 1813), ('two', 1813), ('government', 1644), ('japan', 1503), ('rate', 1492), ('february', 1488), ('dollar', 1484), ('january', 1455), ('week', 1431), ('may', 1403), ('shares', 1399), ('price', 1328), ('foreign', 1318), ('loss', 1304), ('march', 1278), ('told', 1276), ('exchange', 1272), ('could', 1250), ('production', 1241), ('share', 1228), ('stock', 1226), ('group', 1205), ('april', 1169), ('rates', 1168), ('today', 1163), ('month', 1159), ('shr', 1150), ('rose', 1148)]\n",
      "Most frequent document terms:\n",
      "[('said', 4609), ('mln', 2352), ('pct', 2253), ('year', 2200), ('lt', 1987), ('dlrs', 1966), ('u', 1744), ('would', 1740), ('last', 1618), ('one', 1306), ('two', 1295), ('also', 1274), ('market', 1219), ('billion', 1194), ('new', 1173), ('company', 1099), ('told', 1053), ('trade', 1018), ('net', 967), ('bank', 954), ('may', 914), ('government', 879), ('today', 877), ('vs', 850), ('prices', 836), ('april', 833), ('cts', 827), ('march', 826), ('three', 809), ('could', 806), ('week', 806), ('added', 781), ('oil', 767), ('month', 764), ('exchange', 757), ('international', 752), ('price', 741), ('total', 737), ('expected', 733), ('first', 733), ('foreign', 714), ('per', 704), ('rate', 701), ('share', 699), ('corp', 696), ('current', 693), ('group', 686), ('inc', 685), ('five', 671), ('tonnes', 671)]\n",
      "Terms with the highest TFIDF:\n",
      "[('vs', 11818.044459903262), ('mln', 11625.928874284848), ('pct', 10052.245761614773), ('billion', 9710.54628006852), ('dlrs', 8884.33695958949), ('u', 7835.098313198798), ('tonnes', 7102.583041707593), ('bank', 7021.491390129802), ('year', 6924.910669960947), ('oil', 6873.965563005886), ('would', 6696.74736491751), ('trade', 6686.38575420033), ('cts', 6448.507550453009), ('net', 5587.799178810261), ('said', 5523.057434422489), ('market', 5144.359052222177), ('lt', 5068.3955309052535), ('dollar', 5049.739415228694), ('last', 5010.604972048774), ('prices', 5006.63471161198), ('japan', 4996.303127414279), ('loss', 4847.404181128349), ('company', 4693.568416731597), ('january', 4679.590091592154), ('february', 4669.286973448756), ('shares', 4522.777242325159), ('rate', 4499.287016354734), ('new', 4486.687338931271), ('government', 4420.977722623381), ('stg', 4273.980342230134), ('one', 4231.642865801446), ('production', 4094.001358499999), ('rates', 4074.8471241785546), ('week', 4027.1810536920775), ('foreign', 3939.6315459436505), ('also', 3932.709138594268), ('stock', 3925.7648080906674), ('price', 3898.408834970051), ('two', 3861.9477564681106), ('ec', 3817.290007197906), ('profit', 3803.0457369254964), ('share', 3708.22832756922), ('exchange', 3694.81536919646), ('may', 3693.8579628621833), ('exports', 3684.1487886651003), ('group', 3671.4106141141697), ('rose', 3633.532280877387), ('shr', 3626.788340297595), ('japanese', 3605.1178054429806), ('sales', 3599.8345492389662)]\n"
     ]
    }
   ],
   "source": [
    "from nltk.corpus import stopwords\n",
    "stopword_list = stopwords.words('english')\n",
    "\n",
    "term_freq = Counter()\n",
    "doc_freq = Counter()\n",
    "\n",
    "for doc in documents:\n",
    "    doc_terms = set()\n",
    "    for w in doc['content']:\n",
    "        if not w.isalpha():\n",
    "            continue\n",
    "        w = w.lower()\n",
    "        if w not in stopword_list:\n",
    "            term_freq[w] += 1\n",
    "            doc_terms.add(w)\n",
    "    for w in doc_terms:\n",
    "        doc_freq[w] += 1\n",
    "\n",
    "\n",
    "tfidf = Counter()\n",
    "num_docs = len(documents)\n",
    "for w in term_freq:\n",
    "    if w not in stopword_list:\n",
    "        tfidf[w] = term_freq[w] * math.log2(num_docs/doc_freq[w])\n",
    "\n",
    "print(\"Most frequent terms:\")\n",
    "print(term_freq.most_common(50))\n",
    "\n",
    "print(\"Most frequent document terms:\")\n",
    "print(doc_freq.most_common(50))\n",
    "\n",
    "print(\"Terms with the highest TFIDF:\")\n",
    "print(tfidf.most_common(50))\n",
    "\n"
   ]
  },
  {
   "cell_type": "markdown",
   "metadata": {},
   "source": [
    "## Basic IR Model\n",
    "https://en.wikipedia.org/wiki/Tf%E2%80%93idf"
   ]
  },
  {
   "cell_type": "code",
   "execution_count": 96,
   "metadata": {
    "collapsed": false
   },
   "outputs": [
    {
     "name": "stdout",
     "output_type": "stream",
     "text": [
      "Number of matched results: 21\n",
      "ASIAN EXPORTERS FEAR DAMAGE FROM U . S .- JAPAN RIFT\n",
      "JAPAN MINISTRY SAYS OPEN FARM TRADE WOULD HIT U . S .\n",
      "JAPAN ' S LDP URGES MORE IMPORTS OF 12 FARM ITEMS\n",
      "U . S . URGES JAPAN TO OPEN FARM MARKET FURTHER U . S .\n",
      "LYNG OPENS JAPAN TALKS ON FARM TRADE BARRIERS U . S .\n",
      "U . S . URGES JAPAN TO OPEN FARM MARKET FURTHER U . S .\n",
      "U . S . MEAT INDUSTRY LAUNCHES CAMPAIGN IN JAPAN\n",
      "GATT CASE AGAINST JAPAN A MODEL FOR U . S . - LYNG\n",
      "U . S . TAKES TOUGH STAND ON GATT FARM ISSUES\n",
      "EC AGREES TRADE DEAL WITH ARGENTINA\n",
      "\n",
      "Number of matched results: 21\n",
      "JAPAN BEEF PRICE SUPPORT CUT WILL NOT RAISE DEMAND 168.859461\n",
      "U . S . MEAT INDUSTRY LAUNCHES CAMPAIGN IN JAPAN 145.589919\n",
      "LYNG OPENS JAPAN TALKS ON FARM TRADE BARRIERS U . S . 96.102045\n",
      "JAPAN MINISTRY SAYS OPEN FARM TRADE WOULD HIT U . S . 86.204470\n",
      "JAPAN SEEN REDUCING BEEF , PORK INTERVENTION PRICES 79.368314\n",
      "MORE PRESSURE URGED FOR ASIA TO TAKE U . S . BEEF 59.573164\n",
      "ASIAN EXPORTERS FEAR DAMAGE FROM U . S .- JAPAN RIFT 46.501541\n",
      "ECONOMIC SPOTLIGHT - U . S . CONGRESS RAPS JAPAN 46.501541\n",
      "GATT CASE AGAINST JAPAN A MODEL FOR U . S . - LYNG 46.351369\n",
      "AUSTRALIAN BEEF OUTPUT SEEN DECLINING IN 1987 42.989606\n",
      "EC AGREES TRADE DEAL WITH ARGENTINA 39.740471\n",
      "U . S . URGES JAPAN TO OPEN FARM MARKET FURTHER U . S . 33.204660\n",
      "U . S . URGES JAPAN TO OPEN FARM MARKET FURTHER U . S . 33.204660\n",
      "OECD FARM SUBSIDIES STUDY RESULTS DETAILED 33.204660\n",
      "U . S . TO ASK FOR SHARE OF JAPAN ' S RICE MARKET U . S . 33.129574\n",
      "JAPAN ' S LIPC TO BUY BEEF ON APRIL 23 33.092031\n",
      "JAPAN ' S LIPC TO BUY BEEF ON APRIL 23 33.092031\n",
      "U . S . HOUSE PANEL EXTENDS EEP , URGES USSR OFFER 16.546015\n",
      "JAPAN SETS 1987 / 88 FIRST HALF BEEF IMPORT QUOTA 13.259338\n",
      "JAPAN ' S LDP URGES MORE IMPORTS OF 12 FARM ITEMS 9.935118\n",
      "U . S . TAKES TOUGH STAND ON GATT FARM ISSUES 9.935118\n"
     ]
    }
   ],
   "source": [
    "def represent(terms):\n",
    "    counter = Counter()\n",
    "    for term in terms:\n",
    "        term = term.lower()\n",
    "        if term in stopword_list:\n",
    "            continue\n",
    "        if not term.isalpha():\n",
    "            continue\n",
    "        counter[term] += 1\n",
    "    return counter\n",
    "\n",
    "\n",
    "def tfidf(doc_dict, query_dict):\n",
    "    global num_docs\n",
    "    global doc_freq\n",
    "    score = 0\n",
    "    for term in query_dict:\n",
    "        if term in doc_dict:\n",
    "            score += doc_dict[term] * math.log2(num_docs / doc_freq[term])\n",
    "    return score\n",
    "\n",
    "\n",
    "def match_docs(docs, query_dict):\n",
    "    results = []\n",
    "    for doc in docs:\n",
    "        doc_dict = represent(doc['content'])\n",
    "        matched = True\n",
    "        for term in query_dict:\n",
    "            if term not in doc_dict:\n",
    "                matched = False\n",
    "                break\n",
    "        if matched:\n",
    "            results.append(doc)\n",
    "    return results\n",
    "\n",
    "\n",
    "def ranked_search(docs, query, score_func):\n",
    "    query_terms = query.split(\" \")\n",
    "    query_dict = represent(query_terms)\n",
    "    results = []\n",
    "    matched_docs = match_docs(docs, query_dict)\n",
    "    for doc in matched_docs:\n",
    "        doc_dict = represent(doc['content'])\n",
    "        score = score_func(doc_dict, query_dict)\n",
    "        results.append((doc['title'], score))\n",
    "    \n",
    "    ranked = sorted(results, key=lambda x: x[1], reverse=True)\n",
    "    return ranked\n",
    "\n",
    "    \n",
    "query = \"Japan beef\"\n",
    "results = search(documents, query)\n",
    "print(\"Number of matched results: %d\" % len(results))\n",
    "print(\"\\n\".join(results[0:10]))\n",
    "\n",
    "\n",
    "results = ranked_search(documents, query, tfidf)\n",
    "print(\"\\nNumber of matched results: %d\" % len(results))\n",
    "for title, score in results:\n",
    "    print(\"%s %f\" % (title, score))\n",
    "                           "
   ]
  },
  {
   "cell_type": "markdown",
   "metadata": {},
   "source": [
    "### Sorting"
   ]
  },
  {
   "cell_type": "code",
   "execution_count": 108,
   "metadata": {
    "collapsed": false
   },
   "outputs": [
    {
     "name": "stdout",
     "output_type": "stream",
     "text": [
      "[3, 4, 5, 6, 6, 7, 9]\n",
      "[9, 7, 6, 6, 5, 4, 3]\n",
      "[9, 7, 6, 6, 5, 4, 3]\n",
      "['beef', 'chiken', 'hot', 'mutton', 'pork']\n",
      "['hot', 'beef', 'pork', 'chiken', 'mutton']\n",
      "[('beef', 4), ('chiken', 2), ('hot', 7), ('mutton', 3), ('pork', 4)]\n",
      "[('beef', 4), ('chiken', 2), ('hot', 7), ('mutton', 3), ('pork', 4)]\n",
      "[('chiken', 2), ('mutton', 3), ('beef', 4), ('pork', 4), ('hot', 7)]\n",
      "[('hot', 7), ('beef', 4), ('pork', 4), ('chiken', 2), ('mutton', 3)]\n",
      "['國家發展研究所', '政治系', '社會工作系', '社會系', '經濟系']\n",
      "['社會系', '經濟系', '政治系', '社會工作系', '國家發展研究所']\n"
     ]
    }
   ],
   "source": [
    "small_list = [5, 6, 3, 4, 6, 7, 9]\n",
    "print(sorted(small_list))\n",
    "print(sorted(small_list, reverse=True))\n",
    "print(sorted(small_list, key=lambda x: -x))\n",
    "\n",
    "small_strings = ['beef', 'chiken', 'pork', 'mutton', 'hot']\n",
    "print(sorted(small_strings))\n",
    "print(sorted(small_strings, key=lambda x: len(x)))\n",
    "\n",
    "\n",
    "small_tuples = [('beef', 4), ('chiken', 2), ('pork', 4), ('mutton', 3), ('hot', 7)]\n",
    "print(sorted(small_tuples))\n",
    "print(sorted(small_tuples, key=lambda x: x[0]))\n",
    "print(sorted(small_tuples, key=lambda x: x[1]))\n",
    "print(sorted(small_tuples, key=lambda x: len(x[0])))\n",
    "\n",
    "\n",
    "small_strings = ['社會系', '社會工作系', '經濟系', '政治系', '國家發展研究所']\n",
    "print(sorted(small_strings))\n",
    "print(sorted(small_strings, key=lambda x: len(x)))\n"
   ]
  },
  {
   "cell_type": "markdown",
   "metadata": {},
   "source": [
    "## BM25\n",
    "https://en.wikipedia.org/wiki/Okapi_BM25"
   ]
  },
  {
   "cell_type": "code",
   "execution_count": 109,
   "metadata": {
    "collapsed": false
   },
   "outputs": [
    {
     "name": "stdout",
     "output_type": "stream",
     "text": [
      "\n",
      "Number of matched results: 21\n",
      "JAPAN ' S LIPC TO BUY BEEF ON APRIL 23 1.676211\n",
      "JAPAN ' S LIPC TO BUY BEEF ON APRIL 23 1.676211\n",
      "JAPAN SETS 1987 / 88 FIRST HALF BEEF IMPORT QUOTA 1.548682\n",
      "MORE PRESSURE URGED FOR ASIA TO TAKE U . S . BEEF 0.618041\n",
      "JAPAN SEEN REDUCING BEEF , PORK INTERVENTION PRICES 0.523364\n",
      "AUSTRALIAN BEEF OUTPUT SEEN DECLINING IN 1987 0.444577\n",
      "U . S . MEAT INDUSTRY LAUNCHES CAMPAIGN IN JAPAN 0.430094\n",
      "GATT CASE AGAINST JAPAN A MODEL FOR U . S . - LYNG 0.426406\n",
      "JAPAN ' S LDP URGES MORE IMPORTS OF 12 FARM ITEMS 0.424614\n",
      "U . S . TO ASK FOR SHARE OF JAPAN ' S RICE MARKET U . S . 0.337159\n",
      "JAPAN BEEF PRICE SUPPORT CUT WILL NOT RAISE DEMAND 0.315739\n",
      "LYNG OPENS JAPAN TALKS ON FARM TRADE BARRIERS U . S . 0.241400\n",
      "U . S . URGES JAPAN TO OPEN FARM MARKET FURTHER U . S . 0.233559\n",
      "U . S . URGES JAPAN TO OPEN FARM MARKET FURTHER U . S . 0.233559\n",
      "JAPAN MINISTRY SAYS OPEN FARM TRADE WOULD HIT U . S . 0.215694\n",
      "EC AGREES TRADE DEAL WITH ARGENTINA 0.160007\n",
      "ECONOMIC SPOTLIGHT - U . S . CONGRESS RAPS JAPAN 0.091814\n",
      "OECD FARM SUBSIDIES STUDY RESULTS DETAILED 0.052830\n",
      "ASIAN EXPORTERS FEAR DAMAGE FROM U . S .- JAPAN RIFT 0.050941\n",
      "U . S . HOUSE PANEL EXTENDS EEP , URGES USSR OFFER 0.030293\n",
      "U . S . TAKES TOUGH STAND ON GATT FARM ISSUES 0.027802\n"
     ]
    }
   ],
   "source": [
    "avgdl = 0\n",
    "for doc in documents:\n",
    "    doc_dict = represent(doc['content'])\n",
    "    avgdl += sum(doc_dict.values())\n",
    "avgdl /= num_docs\n",
    "    \n",
    "\n",
    "def idf(term):\n",
    "    global num_docs\n",
    "    global doc_freq\n",
    "    return math.log2((num_docs - doc_freq[term] + 0.5) / (doc_freq[term] + 0.5))\n",
    "                     \n",
    "                     \n",
    "def bm25(doc_dict, query_dict):\n",
    "    global num_docs\n",
    "    global doc_freq\n",
    "    global avgdl\n",
    "    k1 = 1.2\n",
    "    b = 0.75\n",
    "    query_len = sum(query_dict.values())\n",
    "    doc_len = sum(doc_dict.values())\n",
    "    score = 0\n",
    "    for term in query_dict:\n",
    "        if term in doc_dict:\n",
    "            tf = ((doc_dict[term] / doc_len) * (k1 + 1)) / (\n",
    "                (doc_dict[term] / doc_len) + k1 *(1 - b + b * (doc_len / avgdl)))\n",
    "            score += idf(term) * tf\n",
    "    return score\n",
    "                                                            \n",
    "                \n",
    "results = ranked_search(documents, query, bm25)\n",
    "print(\"\\nNumber of matched results: %d\" % len(results))\n",
    "for title, score in results:\n",
    "    print(\"%s %f\" % (title, score))\n"
   ]
  },
  {
   "cell_type": "markdown",
   "metadata": {},
   "source": [
    "## Indexing"
   ]
  },
  {
   "cell_type": "markdown",
   "metadata": {},
   "source": [
    "### Build inverted index"
   ]
  },
  {
   "cell_type": "code",
   "execution_count": 110,
   "metadata": {
    "collapsed": false
   },
   "outputs": [],
   "source": [
    "inverted_index = {}\n",
    "\n",
    "for i in range(len(documents)):\n",
    "    doc_dict = represent(documents[i]['content'])\n",
    "    for term in doc_dict:\n",
    "        if term not in inverted_index:\n",
    "            inverted_index[term] = []\n",
    "        inverted_index[term].append(i)\n",
    "        \n",
    "    "
   ]
  },
  {
   "cell_type": "code",
   "execution_count": 111,
   "metadata": {
    "collapsed": false
   },
   "outputs": [
    {
     "name": "stdout",
     "output_type": "stream",
     "text": [
      "\n",
      "Number of matched results: 21\n",
      "JAPAN ' S LIPC TO BUY BEEF ON APRIL 23 1.676211\n",
      "JAPAN ' S LIPC TO BUY BEEF ON APRIL 23 1.676211\n",
      "JAPAN SETS 1987 / 88 FIRST HALF BEEF IMPORT QUOTA 1.548682\n",
      "MORE PRESSURE URGED FOR ASIA TO TAKE U . S . BEEF 0.618041\n",
      "JAPAN SEEN REDUCING BEEF , PORK INTERVENTION PRICES 0.523364\n",
      "AUSTRALIAN BEEF OUTPUT SEEN DECLINING IN 1987 0.444577\n",
      "U . S . MEAT INDUSTRY LAUNCHES CAMPAIGN IN JAPAN 0.430094\n",
      "GATT CASE AGAINST JAPAN A MODEL FOR U . S . - LYNG 0.426406\n",
      "JAPAN ' S LDP URGES MORE IMPORTS OF 12 FARM ITEMS 0.424614\n",
      "U . S . TO ASK FOR SHARE OF JAPAN ' S RICE MARKET U . S . 0.337159\n",
      "JAPAN BEEF PRICE SUPPORT CUT WILL NOT RAISE DEMAND 0.315739\n",
      "LYNG OPENS JAPAN TALKS ON FARM TRADE BARRIERS U . S . 0.241400\n",
      "U . S . URGES JAPAN TO OPEN FARM MARKET FURTHER U . S . 0.233559\n",
      "U . S . URGES JAPAN TO OPEN FARM MARKET FURTHER U . S . 0.233559\n",
      "JAPAN MINISTRY SAYS OPEN FARM TRADE WOULD HIT U . S . 0.215694\n",
      "EC AGREES TRADE DEAL WITH ARGENTINA 0.160007\n",
      "ECONOMIC SPOTLIGHT - U . S . CONGRESS RAPS JAPAN 0.091814\n",
      "OECD FARM SUBSIDIES STUDY RESULTS DETAILED 0.052830\n",
      "ASIAN EXPORTERS FEAR DAMAGE FROM U . S .- JAPAN RIFT 0.050941\n",
      "U . S . HOUSE PANEL EXTENDS EEP , URGES USSR OFFER 0.030293\n",
      "U . S . TAKES TOUGH STAND ON GATT FARM ISSUES 0.027802\n"
     ]
    }
   ],
   "source": [
    "def match_indexed_docs(docs, inverted_index, query_dict):\n",
    "    count = Counter()\n",
    "    for term in query_dict:\n",
    "        for doc_id in inverted_index[term]:\n",
    "            count[doc_id] += 1\n",
    "    results = []\n",
    "    for doc_id in count:\n",
    "        if count[doc_id] == len(query_dict):\n",
    "            results.append(docs[doc_id])\n",
    "    return results\n",
    "            \n",
    "    \n",
    "def ranked_indexed_search(docs, inverted_index, query, score_func):\n",
    "    query_terms = query.split(\" \")\n",
    "    query_dict = represent(query_terms)\n",
    "    results = []\n",
    "    docs = match_indexed_docs(docs, inverted_index, query_dict)\n",
    "    for doc in docs:\n",
    "        doc_dict = represent(doc['content'])\n",
    "        score = score_func(doc_dict, query_dict)\n",
    "        if score > 0:\n",
    "            results.append((doc['title'], score))\n",
    "    \n",
    "    ranked = sorted(results, key=lambda x: x[1], reverse=True)\n",
    "    return ranked\n",
    "\n",
    "\n",
    "results = ranked_indexed_search(documents, inverted_index, query, bm25)\n",
    "print(\"\\nNumber of matched results: %d\" % len(results))\n",
    "for title, score in results:\n",
    "    print(\"%s %f\" % (title, score))\n"
   ]
  },
  {
   "cell_type": "code",
   "execution_count": 112,
   "metadata": {
    "collapsed": false
   },
   "outputs": [
    {
     "name": "stdout",
     "output_type": "stream",
     "text": [
      "\n",
      "Number of matched results: 41\n",
      "RISING TAIWAN DOLLAR CAUSES FOREIGN RESERVES LOSS 0.557418\n",
      "TAIWAN STEEL FIRM SEES LOWER EXPORTS , MORE OUTPUT 0.534024\n",
      "THAI ZINC EXPORTS FALL IN MARCH 0.447403\n",
      "LONDON GRAIN FREIGHTS 27 , 000 0.411234\n",
      "TAIWAN PLANS MISSION TO CLOSE TRADE GAP WITH U . S . 0.361747\n",
      "TAIWAN FOREIGN EXCHANGE RESERVES HIT NEW HIGH 0.358275\n",
      "TAIWAN SEES SHARP DECLINE IN SHIPBREAKING 0.304945\n",
      "YEUTTER PUTS CURRENCY BURDEN ON TAIWAN , KOREA 0.289958\n",
      "MULFORD SAYS GERMANY , JAPAN SHOULD DO MORE 0.248875\n",
      "BALDRIGE CONCERNED ABOUT KOREAN / TAIWAN DEFICITS 0.226503\n",
      "SOUTH AFRICA CORN EXPORTS COULD BE REDUCED - USDA 0.210748\n",
      "LONDON FREIGHT MARKET FEATURES GRAIN OUT OF U . S . 0.210735\n",
      "TAIWAN ANNOUNCES NEW ROUND OF IMPORT TARIFF CUTS 0.165164\n",
      "TAIWAN ANNOUNCES NEW ROUND OF IMPORT TARIFF CUTS 0.165164\n",
      "BALDRIGE WARNS OF WORLD TRADE WAR DANGER U . S . 0.155060\n",
      "BALDRIGE WARNS OF WORLD TRADE WAR DANGER U . S . 0.152501\n",
      "TAIWAN CURBS INFLOWS OF FOREIGN EXCHANGE 0.141761\n",
      "TAIWAN COMPLAINS ABOUT SIZE OF RESERVES 0.139054\n",
      "REPORT EXPECTS SHARP DROP IN WORLD IRON IMPORTS 0.138398\n",
      "USDA COMMENTS ON EXPORT SALES REPORT U . S . 0.130159\n",
      "U . S . HOUSE PANEL APPROVES TRADE BILL 0.122454\n",
      "TAIWAN SHIPBUILDER LOOKS FOR JAPANESE VENTURES 0.099780\n",
      "TAIWAN DOLLAR AND RESERVES SEEN RISING MORE SLOWLY 0.098053\n",
      "USDA COMMENTS ON EXPORT SALES REPORT 0.095963\n",
      "AUSTRALIAN BEEF OUTPUT SEEN DECLINING IN 1987 0.095316\n",
      "ECONOMIC SPOTLIGHT - U . S . DEFICIT WITH 0.093116\n",
      "ECONOMIC SPOTLIGHT - U . S . CONGRESS RAPS JAPAN 0.090142\n",
      "USDA COMMENTS ON EXPORT SALES 0.089580\n",
      "PHILIPPINE PLANNING CHIEF URGES PESO DEVALUATION 0.078124\n",
      "ASIAN EXPORTERS FEAR DAMAGE FROM U . S .- JAPAN RIFT 0.069852\n",
      "LATIN , CARIBBEAN NATIONS OPPOSE TRADE BILLS A 0.052019\n",
      "ECONOMIC SPOTLIGHT - JAPAN SHIPBUILDERS RECOVERY 0.047666\n",
      "U . S . HOUSE PANEL APPROVES TRADE BILL 0.044894\n",
      "JAPANESE TARIFFS SEEN AS WORLDWIDE WARNING 0.040512\n",
      "U . S . TRADE DEFICIT 38 . 37 BILLION DLRS IN 4TH QTR 0.039176\n",
      "EXPORT BUSINESS - GRAINS / OILSEEDS COMPLEX 0.025505\n",
      "U . S . HOUSE PANEL TAKES FIRST TRADE BILL VOTES 0.019227\n",
      "DOLLAR VALUE APPROPRIATE , BUNDESBANK OFFICIAL SAYS 0.018462\n",
      "NET CHANGE IN EXPORT COMMITMENTS -- USDA 0.011454\n",
      "TRADE INTERESTS READY FOR BATTLE IN U . S . HOUSE U . S . 0.010810\n",
      "TRADE INTERESTS READY FOR FIGHT IN U . S . CONGRESS U . S . 0.008743\n"
     ]
    }
   ],
   "source": [
    "query = \"Taiwan Japan\"\n",
    "results = ranked_indexed_search(documents, inverted_index, query, bm25)\n",
    "print(\"\\nNumber of matched results: %d\" % len(results))\n",
    "for title, score in results:\n",
    "    print(\"%s %f\" % (title, score))\n"
   ]
  },
  {
   "cell_type": "code",
   "execution_count": 113,
   "metadata": {
    "collapsed": false
   },
   "outputs": [
    {
     "name": "stdout",
     "output_type": "stream",
     "text": [
      "\n",
      "Number of matched results: 41\n",
      "ECONOMIC SPOTLIGHT - U . S . DEFICIT WITH 121.213109\n",
      "TAIWAN SEES SHARP DECLINE IN SHIPBREAKING 64.755111\n",
      "ASIAN EXPORTERS FEAR DAMAGE FROM U . S .- JAPAN RIFT 63.133312\n",
      "ECONOMIC SPOTLIGHT - U . S . CONGRESS RAPS JAPAN 45.701311\n",
      "TAIWAN CURBS INFLOWS OF FOREIGN EXCHANGE 43.998890\n",
      "NET CHANGE IN EXPORT COMMITMENTS -- USDA 39.863770\n",
      "TAIWAN ANNOUNCES NEW ROUND OF IMPORT TARIFF CUTS 38.188223\n",
      "TAIWAN ANNOUNCES NEW ROUND OF IMPORT TARIFF CUTS 38.188223\n",
      "RISING TAIWAN DOLLAR CAUSES FOREIGN RESERVES LOSS 35.701776\n",
      "TAIWAN COMPLAINS ABOUT SIZE OF RESERVES 32.377556\n",
      "TAIWAN FOREIGN EXCHANGE RESERVES HIT NEW HIGH 32.377556\n",
      "TAIWAN DOLLAR AND RESERVES SEEN RISING MORE SLOWLY 32.377556\n",
      "JAPANESE TARIFFS SEEN AS WORLDWIDE WARNING 31.566656\n",
      "ECONOMIC SPOTLIGHT - JAPAN SHIPBUILDERS RECOVERY 25.755989\n",
      "USDA COMMENTS ON EXPORT SALES REPORT U . S . 24.918215\n",
      "TAIWAN PLANS MISSION TO CLOSE TRADE GAP WITH U . S . 24.080442\n",
      "YEUTTER PUTS CURRENCY BURDEN ON TAIWAN , KOREA 24.080442\n",
      "TAIWAN STEEL FIRM SEES LOWER EXPORTS , MORE OUTPUT 20.756222\n",
      "TAIWAN SHIPBUILDER LOOKS FOR JAPANESE VENTURES 20.756222\n",
      "USDA COMMENTS ON EXPORT SALES 15.783328\n",
      "LONDON FREIGHT MARKET FEATURES GRAIN OUT OF U . S . 15.783328\n",
      "USDA COMMENTS ON EXPORT SALES REPORT 15.783328\n",
      "U . S . TRADE DEFICIT 38 . 37 BILLION DLRS IN 4TH QTR 15.783328\n",
      "BALDRIGE CONCERNED ABOUT KOREAN / TAIWAN DEFICITS 14.945554\n",
      "LATIN , CARIBBEAN NATIONS OPPOSE TRADE BILLS A 12.459108\n",
      "MULFORD SAYS GERMANY , JAPAN SHOULD DO MORE 12.459108\n",
      "THAI ZINC EXPORTS FALL IN MARCH 9.134887\n",
      "TRADE INTERESTS READY FOR FIGHT IN U . S . CONGRESS U . S . 9.134887\n",
      "TRADE INTERESTS READY FOR BATTLE IN U . S . HOUSE U . S . 9.134887\n",
      "PHILIPPINE PLANNING CHIEF URGES PESO DEVALUATION 9.134887\n",
      "LONDON GRAIN FREIGHTS 27 , 000 9.134887\n",
      "BALDRIGE WARNS OF WORLD TRADE WAR DANGER U . S . 9.134887\n",
      "REPORT EXPECTS SHARP DROP IN WORLD IRON IMPORTS 9.134887\n",
      "EXPORT BUSINESS - GRAINS / OILSEEDS COMPLEX 9.134887\n",
      "U . S . HOUSE PANEL TAKES FIRST TRADE BILL VOTES 9.134887\n",
      "SOUTH AFRICA CORN EXPORTS COULD BE REDUCED - USDA 9.134887\n",
      "DOLLAR VALUE APPROPRIATE , BUNDESBANK OFFICIAL SAYS 9.134887\n",
      "U . S . HOUSE PANEL APPROVES TRADE BILL 9.134887\n",
      "U . S . HOUSE PANEL APPROVES TRADE BILL 9.134887\n",
      "AUSTRALIAN BEEF OUTPUT SEEN DECLINING IN 1987 9.134887\n",
      "BALDRIGE WARNS OF WORLD TRADE WAR DANGER U . S . 9.134887\n"
     ]
    }
   ],
   "source": [
    "results = ranked_indexed_search(documents, inverted_index, query, tfidf)\n",
    "print(\"\\nNumber of matched results: %d\" % len(results))\n",
    "for title, score in results:\n",
    "    print(\"%s %f\" % (title, score))\n"
   ]
  }
 ],
 "metadata": {
  "kernelspec": {
   "display_name": "Python 3",
   "language": "python",
   "name": "python3"
  },
  "language_info": {
   "codemirror_mode": {
    "name": "ipython",
    "version": 3
   },
   "file_extension": ".py",
   "mimetype": "text/x-python",
   "name": "python",
   "nbconvert_exporter": "python",
   "pygments_lexer": "ipython3",
   "version": "3.4.2"
  }
 },
 "nbformat": 4,
 "nbformat_minor": 1
}
